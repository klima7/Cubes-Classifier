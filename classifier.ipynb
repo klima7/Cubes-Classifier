{
 "cells": [
  {
   "cell_type": "code",
   "execution_count": 1,
   "metadata": {},
   "outputs": [],
   "source": [
    "import numpy as np\n",
    "from sklearn.metrics import classification_report\n",
    "import tensorflow as tf\n",
    "import tensorflow.keras.layers as layers\n",
    "from tensorflow.keras.models import Sequential\n",
    "\n",
    "import cv2"
   ]
  },
  {
   "cell_type": "code",
   "execution_count": 18,
   "metadata": {},
   "outputs": [
    {
     "name": "stdout",
     "output_type": "stream",
     "text": [
      "Found 10019 files belonging to 10 classes.\n",
      "Found 353 files belonging to 10 classes.\n"
     ]
    }
   ],
   "source": [
    "train_ds = tf.keras.utils.image_dataset_from_directory(\n",
    "  'data/dataset/',\n",
    "  label_mode='categorical',\n",
    "  shuffle=True,\n",
    "  seed=42,\n",
    "  image_size=(32, 32),\n",
    ")\n",
    "\n",
    "test_ds = tf.keras.utils.image_dataset_from_directory(\n",
    "  'data/test_dataset/',\n",
    "  label_mode='categorical',\n",
    "  shuffle=True,\n",
    "  seed=42,\n",
    "  image_size=(32, 32),\n",
    ")\n",
    "\n",
    "# def transform_dataset(x, y):\n",
    "#   # gray = cv2.cvtColor(x, cv2.COLOR_RGB2GRAY)\n",
    "#   print(x.shape)\n",
    "#   print(y)\n",
    "#   return x\n",
    "\n",
    "# train_ds = train_ds.map(transform_dataset)\n",
    "\n",
    "train_X, train_y = zip(*train_ds)\n",
    "train_X = np.concatenate(train_X)\n",
    "train_y = np.concatenate(train_y)\n"
   ]
  },
  {
   "cell_type": "code",
   "execution_count": 20,
   "metadata": {},
   "outputs": [
    {
     "data": {
      "text/plain": [
       "((10019, 32, 32, 3), (10019, 10))"
      ]
     },
     "execution_count": 20,
     "metadata": {},
     "output_type": "execute_result"
    }
   ],
   "source": [
    "train_X.shape, train_y.shape"
   ]
  },
  {
   "cell_type": "code",
   "execution_count": 3,
   "metadata": {},
   "outputs": [],
   "source": [
    "x, y = next(iter(train_ds))"
   ]
  },
  {
   "cell_type": "code",
   "execution_count": 10,
   "metadata": {},
   "outputs": [],
   "source": [
    "model = Sequential([\n",
    "    layers.Input(shape=(None, None, 3)),\n",
    "    layers.Resizing(32, 32),\n",
    "    layers.Rescaling(1./255),\n",
    "    # layers.RandomBrightness(0.2, value_range=(0, 1)),\n",
    "    layers.RandomFlip('horizontal'),\n",
    "    # layers.RandomRotation(0.2),\n",
    "    # layers.RandomZoom(),\n",
    "    # layers.RandomTranslation(),\n",
    "    # layers.RandomContrast(),\n",
    "    # layers.RandomCrop()\n",
    "    layers.Conv2D(32, (3, 3), activation='relu'),\n",
    "    layers.MaxPooling2D((2, 2)),\n",
    "    layers.Conv2D(64, (3, 3), activation='relu'),\n",
    "    layers.MaxPooling2D((2, 2)),\n",
    "    layers.Conv2D(128, (3, 3), activation='relu'),\n",
    "    layers.Flatten(),\n",
    "    layers.Dense(256, activation='relu'),\n",
    "    layers.Dropout(0.5),\n",
    "    layers.Dense(128, activation='relu'),\n",
    "    layers.Dropout(0.5),\n",
    "    layers.Dense(10, activation='softmax'),\n",
    "])"
   ]
  },
  {
   "cell_type": "code",
   "execution_count": 11,
   "metadata": {},
   "outputs": [
    {
     "name": "stdout",
     "output_type": "stream",
     "text": [
      "Model: \"sequential_2\"\n",
      "_________________________________________________________________\n",
      " Layer (type)                Output Shape              Param #   \n",
      "=================================================================\n",
      " resizing_2 (Resizing)       (None, 32, 32, 3)         0         \n",
      "                                                                 \n",
      " rescaling_2 (Rescaling)     (None, 32, 32, 3)         0         \n",
      "                                                                 \n",
      " random_flip_2 (RandomFlip)  (None, 32, 32, 3)         0         \n",
      "                                                                 \n",
      " conv2d_6 (Conv2D)           (None, 30, 30, 32)        896       \n",
      "                                                                 \n",
      " max_pooling2d_4 (MaxPooling  (None, 15, 15, 32)       0         \n",
      " 2D)                                                             \n",
      "                                                                 \n",
      " conv2d_7 (Conv2D)           (None, 13, 13, 64)        18496     \n",
      "                                                                 \n",
      " max_pooling2d_5 (MaxPooling  (None, 6, 6, 64)         0         \n",
      " 2D)                                                             \n",
      "                                                                 \n",
      " conv2d_8 (Conv2D)           (None, 4, 4, 128)         73856     \n",
      "                                                                 \n",
      " flatten_2 (Flatten)         (None, 2048)              0         \n",
      "                                                                 \n",
      " dense_6 (Dense)             (None, 256)               524544    \n",
      "                                                                 \n",
      " dropout_4 (Dropout)         (None, 256)               0         \n",
      "                                                                 \n",
      " dense_7 (Dense)             (None, 128)               32896     \n",
      "                                                                 \n",
      " dropout_5 (Dropout)         (None, 128)               0         \n",
      "                                                                 \n",
      " dense_8 (Dense)             (None, 10)                1290      \n",
      "                                                                 \n",
      "=================================================================\n",
      "Total params: 651,978\n",
      "Trainable params: 651,978\n",
      "Non-trainable params: 0\n",
      "_________________________________________________________________\n"
     ]
    }
   ],
   "source": [
    "model.summary()"
   ]
  },
  {
   "cell_type": "code",
   "execution_count": 12,
   "metadata": {},
   "outputs": [],
   "source": [
    "model.compile(optimizer='adam',\n",
    "              loss='categorical_crossentropy',\n",
    "              metrics=['accuracy'])"
   ]
  },
  {
   "cell_type": "code",
   "execution_count": 21,
   "metadata": {},
   "outputs": [
    {
     "name": "stdout",
     "output_type": "stream",
     "text": [
      "Epoch 1/40\n",
      "157/157 [==============================] - 5s 27ms/step - loss: 0.0118 - accuracy: 0.9965 - val_loss: 8.9760 - val_accuracy: 0.3881\n",
      "Epoch 2/40\n",
      "157/157 [==============================] - 5s 31ms/step - loss: 0.0076 - accuracy: 0.9982 - val_loss: 7.4705 - val_accuracy: 0.3909\n",
      "Epoch 3/40\n",
      "157/157 [==============================] - 5s 32ms/step - loss: 0.0036 - accuracy: 0.9988 - val_loss: 7.7017 - val_accuracy: 0.4108\n",
      "Epoch 4/40\n",
      "157/157 [==============================] - 5s 31ms/step - loss: 0.0024 - accuracy: 0.9992 - val_loss: 8.1972 - val_accuracy: 0.3938\n",
      "Epoch 5/40\n",
      "157/157 [==============================] - 5s 33ms/step - loss: 0.0035 - accuracy: 0.9991 - val_loss: 9.6441 - val_accuracy: 0.3938\n",
      "Epoch 6/40\n",
      "157/157 [==============================] - 5s 31ms/step - loss: 8.3615e-04 - accuracy: 0.9998 - val_loss: 8.5885 - val_accuracy: 0.3909\n",
      "Epoch 7/40\n",
      "157/157 [==============================] - 5s 33ms/step - loss: 0.0018 - accuracy: 0.9993 - val_loss: 9.4853 - val_accuracy: 0.4136\n",
      "Epoch 8/40\n",
      "157/157 [==============================] - 5s 32ms/step - loss: 0.0036 - accuracy: 0.9986 - val_loss: 8.3904 - val_accuracy: 0.3853\n",
      "Epoch 9/40\n",
      "157/157 [==============================] - 5s 32ms/step - loss: 0.0076 - accuracy: 0.9973 - val_loss: 9.3750 - val_accuracy: 0.4023\n",
      "Epoch 10/40\n",
      "157/157 [==============================] - 5s 31ms/step - loss: 0.0367 - accuracy: 0.9926 - val_loss: 6.7340 - val_accuracy: 0.4079\n",
      "Epoch 11/40\n",
      "157/157 [==============================] - 5s 32ms/step - loss: 0.0123 - accuracy: 0.9961 - val_loss: 7.6414 - val_accuracy: 0.3768\n",
      "Epoch 12/40\n",
      "157/157 [==============================] - 5s 32ms/step - loss: 0.0072 - accuracy: 0.9982 - val_loss: 8.8134 - val_accuracy: 0.3796\n",
      "Epoch 13/40\n",
      "157/157 [==============================] - 5s 31ms/step - loss: 0.0078 - accuracy: 0.9978 - val_loss: 9.5692 - val_accuracy: 0.3399\n",
      "Epoch 14/40\n",
      "157/157 [==============================] - 5s 32ms/step - loss: 0.0069 - accuracy: 0.9984 - val_loss: 7.1449 - val_accuracy: 0.4051\n",
      "Epoch 15/40\n",
      "157/157 [==============================] - 5s 31ms/step - loss: 0.0227 - accuracy: 0.9946 - val_loss: 9.4383 - val_accuracy: 0.3541\n",
      "Epoch 16/40\n",
      "157/157 [==============================] - 5s 32ms/step - loss: 0.0252 - accuracy: 0.9939 - val_loss: 8.4920 - val_accuracy: 0.4108\n",
      "Epoch 17/40\n",
      "157/157 [==============================] - 5s 32ms/step - loss: 0.0041 - accuracy: 0.9988 - val_loss: 9.7900 - val_accuracy: 0.3994\n",
      "Epoch 18/40\n",
      "157/157 [==============================] - 5s 32ms/step - loss: 0.0193 - accuracy: 0.9954 - val_loss: 8.4793 - val_accuracy: 0.4249\n",
      "Epoch 19/40\n",
      "157/157 [==============================] - 5s 32ms/step - loss: 0.0078 - accuracy: 0.9977 - val_loss: 8.1665 - val_accuracy: 0.3938\n",
      "Epoch 20/40\n",
      "157/157 [==============================] - 5s 31ms/step - loss: 0.0156 - accuracy: 0.9959 - val_loss: 8.7072 - val_accuracy: 0.4023\n",
      "Epoch 21/40\n",
      "157/157 [==============================] - 5s 33ms/step - loss: 0.0331 - accuracy: 0.9916 - val_loss: 8.1581 - val_accuracy: 0.3881\n",
      "Epoch 22/40\n",
      "157/157 [==============================] - 5s 32ms/step - loss: 0.0116 - accuracy: 0.9974 - val_loss: 8.7015 - val_accuracy: 0.3513\n",
      "Epoch 23/40\n",
      "157/157 [==============================] - 5s 33ms/step - loss: 0.0141 - accuracy: 0.9966 - val_loss: 8.6654 - val_accuracy: 0.3683\n",
      "Epoch 24/40\n",
      "157/157 [==============================] - 5s 33ms/step - loss: 0.0180 - accuracy: 0.9961 - val_loss: 7.9900 - val_accuracy: 0.3654\n",
      "Epoch 25/40\n",
      "157/157 [==============================] - 5s 32ms/step - loss: 0.0169 - accuracy: 0.9959 - val_loss: 8.1071 - val_accuracy: 0.4249\n",
      "Epoch 26/40\n",
      "157/157 [==============================] - 5s 33ms/step - loss: 0.0115 - accuracy: 0.9975 - val_loss: 8.1399 - val_accuracy: 0.4249\n",
      "Epoch 27/40\n",
      "157/157 [==============================] - 5s 32ms/step - loss: 0.0075 - accuracy: 0.9982 - val_loss: 9.5389 - val_accuracy: 0.3909\n",
      "Epoch 28/40\n",
      "157/157 [==============================] - 5s 32ms/step - loss: 0.0370 - accuracy: 0.9914 - val_loss: 8.4513 - val_accuracy: 0.3711\n",
      "Epoch 29/40\n",
      "157/157 [==============================] - 5s 31ms/step - loss: 0.0086 - accuracy: 0.9974 - val_loss: 7.6077 - val_accuracy: 0.4278\n",
      "Epoch 30/40\n",
      "157/157 [==============================] - 5s 31ms/step - loss: 0.0124 - accuracy: 0.9969 - val_loss: 7.8777 - val_accuracy: 0.3994\n",
      "Epoch 31/40\n",
      "157/157 [==============================] - 5s 31ms/step - loss: 0.0064 - accuracy: 0.9985 - val_loss: 8.3797 - val_accuracy: 0.4221\n",
      "Epoch 32/40\n",
      "157/157 [==============================] - 5s 32ms/step - loss: 0.0011 - accuracy: 0.9997 - val_loss: 8.8673 - val_accuracy: 0.4051\n",
      "Epoch 33/40\n",
      "157/157 [==============================] - 5s 30ms/step - loss: 0.0034 - accuracy: 0.9991 - val_loss: 10.7995 - val_accuracy: 0.3654\n",
      "Epoch 34/40\n",
      "157/157 [==============================] - 5s 32ms/step - loss: 0.0200 - accuracy: 0.9948 - val_loss: 8.6955 - val_accuracy: 0.3229\n",
      "Epoch 35/40\n",
      "157/157 [==============================] - 5s 32ms/step - loss: 0.0266 - accuracy: 0.9932 - val_loss: 7.5328 - val_accuracy: 0.3768\n",
      "Epoch 36/40\n",
      "157/157 [==============================] - 5s 33ms/step - loss: 0.0175 - accuracy: 0.9959 - val_loss: 9.7920 - val_accuracy: 0.3428\n",
      "Epoch 37/40\n",
      "157/157 [==============================] - 5s 31ms/step - loss: 0.0102 - accuracy: 0.9978 - val_loss: 10.6030 - val_accuracy: 0.3881\n",
      "Epoch 38/40\n",
      "157/157 [==============================] - 5s 31ms/step - loss: 0.0159 - accuracy: 0.9965 - val_loss: 9.6607 - val_accuracy: 0.3569\n",
      "Epoch 39/40\n",
      "157/157 [==============================] - 5s 33ms/step - loss: 0.0055 - accuracy: 0.9986 - val_loss: 9.1213 - val_accuracy: 0.3683\n",
      "Epoch 40/40\n",
      "157/157 [==============================] - 5s 32ms/step - loss: 0.0097 - accuracy: 0.9984 - val_loss: 9.9267 - val_accuracy: 0.3994\n"
     ]
    }
   ],
   "source": [
    "history = model.fit(train_X, train_y, validation_data=test_ds, epochs=40, batch_size=64)"
   ]
  },
  {
   "cell_type": "code",
   "execution_count": 22,
   "metadata": {},
   "outputs": [],
   "source": [
    "X, y = zip(*test_ds)\n",
    "X = np.concatenate(X)\n",
    "y = np.concatenate(y)"
   ]
  },
  {
   "cell_type": "code",
   "execution_count": 203,
   "metadata": {},
   "outputs": [
    {
     "data": {
      "text/plain": [
       "((72, 32, 32, 3), (72, 10))"
      ]
     },
     "execution_count": 203,
     "metadata": {},
     "output_type": "execute_result"
    }
   ],
   "source": [
    "X.shape, y.shape"
   ]
  },
  {
   "cell_type": "code",
   "execution_count": 23,
   "metadata": {},
   "outputs": [
    {
     "name": "stdout",
     "output_type": "stream",
     "text": [
      "12/12 [==============================] - 0s 26ms/step\n",
      "              precision    recall  f1-score   support\n",
      "\n",
      "           0       0.00      0.00      0.00         1\n",
      "           1       0.00      0.00      0.00         1\n",
      "           2       0.00      0.00      0.00         1\n",
      "           3       0.55      0.66      0.60        50\n",
      "           4       0.84      0.54      0.66        50\n",
      "           5       0.35      0.74      0.47        50\n",
      "           6       0.30      0.14      0.19        50\n",
      "           7       1.00      0.04      0.08        50\n",
      "           8       0.36      0.10      0.16        50\n",
      "           9       0.36      0.60      0.45        50\n",
      "\n",
      "    accuracy                           0.40       353\n",
      "   macro avg       0.38      0.28      0.26       353\n",
      "weighted avg       0.53      0.40      0.37       353\n",
      "\n"
     ]
    }
   ],
   "source": [
    "X, y = zip(*test_ds)\n",
    "X = np.concatenate(X)\n",
    "y = np.concatenate(y)\n",
    "\n",
    "predictions = model.predict(X)\n",
    "report = classification_report(np.argmax(y, axis=1), np.argmax(predictions, axis=1))\n",
    "print(report)"
   ]
  }
 ],
 "metadata": {
  "kernelspec": {
   "display_name": "Python 3.9.15 ('tf')",
   "language": "python",
   "name": "python3"
  },
  "language_info": {
   "codemirror_mode": {
    "name": "ipython",
    "version": 3
   },
   "file_extension": ".py",
   "mimetype": "text/x-python",
   "name": "python",
   "nbconvert_exporter": "python",
   "pygments_lexer": "ipython3",
   "version": "3.9.15"
  },
  "orig_nbformat": 4,
  "vscode": {
   "interpreter": {
    "hash": "f14c42d44d5aca93a07ae152a604bc05c55a838d5339618e42b4c4346ef3b75c"
   }
  }
 },
 "nbformat": 4,
 "nbformat_minor": 2
}
