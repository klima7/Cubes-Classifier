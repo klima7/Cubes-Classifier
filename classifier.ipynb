{
 "cells": [
  {
   "cell_type": "code",
   "execution_count": 19,
   "metadata": {},
   "outputs": [],
   "source": [
    "import os\n",
    "\n",
    "import numpy as np\n",
    "from sklearn.metrics import classification_report, confusion_matrix, ConfusionMatrixDisplay\n",
    "import tensorflow as tf\n",
    "import tensorflow.keras.layers as layers\n",
    "from tensorflow.keras.models import Sequential\n",
    "\n",
    "import cv2 as cv\n",
    "import matplotlib.pyplot as plt"
   ]
  },
  {
   "cell_type": "markdown",
   "metadata": {},
   "source": [
    "### Reading data"
   ]
  },
  {
   "cell_type": "code",
   "execution_count": 20,
   "metadata": {},
   "outputs": [],
   "source": [
    "def read_dataset(path, size=64):\n",
    "    ds = tf.keras.utils.image_dataset_from_directory(\n",
    "        path,\n",
    "        label_mode='categorical',\n",
    "        shuffle=True,\n",
    "        seed=42,\n",
    "        image_size=(size, size),\n",
    "    )\n",
    "    \n",
    "    X, y = zip(*ds)\n",
    "    X = np.concatenate(X)\n",
    "    y = np.concatenate(y)\n",
    "    \n",
    "    return X, y"
   ]
  },
  {
   "cell_type": "code",
   "execution_count": 21,
   "metadata": {},
   "outputs": [
    {
     "name": "stdout",
     "output_type": "stream",
     "text": [
      "Found 10019 files belonging to 10 classes.\n",
      "Found 500 files belonging to 10 classes.\n"
     ]
    }
   ],
   "source": [
    "train_X, train_y = read_dataset('data/train/')\n",
    "test_X, test_y = read_dataset('data/test/')\n",
    "labels = sorted(os.listdir('data/train'))"
   ]
  },
  {
   "cell_type": "markdown",
   "metadata": {},
   "source": [
    "### Gray"
   ]
  },
  {
   "cell_type": "code",
   "execution_count": 4,
   "metadata": {},
   "outputs": [],
   "source": [
    "def cvt_to_gray(images):\n",
    "    gray_images = []\n",
    "    for rgb_image in images:\n",
    "        gray_image = cv.cvtColor(rgb_image, cv.COLOR_RGB2GRAY)\n",
    "        gray_images.append(gray_image)\n",
    "    gray_images = np.array(gray_images)\n",
    "    gray_images = gray_images[..., np.newaxis]\n",
    "    return gray_images"
   ]
  },
  {
   "cell_type": "code",
   "execution_count": 133,
   "metadata": {},
   "outputs": [
    {
     "data": {
      "text/plain": [
       "((10019, 64, 64, 1), (353, 64, 64, 1))"
      ]
     },
     "execution_count": 133,
     "metadata": {},
     "output_type": "execute_result"
    }
   ],
   "source": [
    "gray_train_X = cvt_to_gray(train_X)\n",
    "gray_test_X = cvt_to_gray(test_X)\n",
    "gray_train_X.shape, gray_test_X.shape"
   ]
  },
  {
   "cell_type": "code",
   "execution_count": 171,
   "metadata": {},
   "outputs": [],
   "source": [
    "gray_train_X = np.abs(gray_train_X)\n",
    "gray_test_X = np.abs(gray_test_X)"
   ]
  },
  {
   "cell_type": "markdown",
   "metadata": {},
   "source": [
    "### Gradients"
   ]
  },
  {
   "cell_type": "code",
   "execution_count": 51,
   "metadata": {},
   "outputs": [],
   "source": [
    "def get_gradients(rgb_image):\n",
    "    gray_image = cv.cvtColor(rgb_image, cv.COLOR_RGB2GRAY) / 256\n",
    "    \n",
    "    sobelx = cv.Sobel(gray_image, cv.CV_64F,1,0,ksize=3)\n",
    "    sobely = cv.Sobel(gray_image, cv.CV_64F,0,1,ksize=3)\n",
    "    sobelxy = cv.Sobel(gray_image, cv.CV_64F,1,1,ksize=3)\n",
    "    aplitude = np.sqrt(np.power(sobelx, 2), np.power(sobely, 2))\n",
    "    # laplacian = cv.Laplacian(gray_image, cv.CV_64F)\n",
    "    \n",
    "    return [sobelx, sobely, sobelxy, aplitude]"
   ]
  },
  {
   "cell_type": "code",
   "execution_count": 53,
   "metadata": {},
   "outputs": [],
   "source": [
    "def cvt_to_gradients(images):\n",
    "    grad_images = []\n",
    "    for rgb_image in images:\n",
    "        gradients = get_gradients(rgb_image)\n",
    "        grad_images.append(gradients)\n",
    "    grad_images = np.array(grad_images)\n",
    "    grad_images = np.transpose(grad_images, (0, 2, 3, 1))\n",
    "    return grad_images"
   ]
  },
  {
   "cell_type": "code",
   "execution_count": 54,
   "metadata": {},
   "outputs": [
    {
     "ename": "error",
     "evalue": "OpenCV(4.6.0) D:\\a\\opencv-python\\opencv-python\\opencv\\modules\\imgproc\\src\\deriv.cpp:107: error: (-215:Assertion failed) dx >= 0 && dy >= 0 && dx+dy > 0 in function 'cv::getSobelKernels'\n",
     "output_type": "error",
     "traceback": [
      "\u001b[1;31m---------------------------------------------------------------------------\u001b[0m",
      "\u001b[1;31merror\u001b[0m                                     Traceback (most recent call last)",
      "Cell \u001b[1;32mIn [54], line 1\u001b[0m\n\u001b[1;32m----> 1\u001b[0m grad_train_X \u001b[39m=\u001b[39m cvt_to_gradients(train_X)\n\u001b[0;32m      2\u001b[0m grad_test_X \u001b[39m=\u001b[39m cvt_to_gradients(test_X)\n\u001b[0;32m      3\u001b[0m grad_train_X\u001b[39m.\u001b[39mshape, grad_test_X\u001b[39m.\u001b[39mshape\n",
      "Cell \u001b[1;32mIn [53], line 4\u001b[0m, in \u001b[0;36mcvt_to_gradients\u001b[1;34m(images)\u001b[0m\n\u001b[0;32m      2\u001b[0m grad_images \u001b[39m=\u001b[39m []\n\u001b[0;32m      3\u001b[0m \u001b[39mfor\u001b[39;00m rgb_image \u001b[39min\u001b[39;00m images:\n\u001b[1;32m----> 4\u001b[0m     gradients \u001b[39m=\u001b[39m get_gradients(rgb_image)\n\u001b[0;32m      5\u001b[0m     grad_images\u001b[39m.\u001b[39mappend(gradients)\n\u001b[0;32m      6\u001b[0m grad_images \u001b[39m=\u001b[39m np\u001b[39m.\u001b[39marray(grad_images)\n",
      "Cell \u001b[1;32mIn [51], line 7\u001b[0m, in \u001b[0;36mget_gradients\u001b[1;34m(rgb_image)\u001b[0m\n\u001b[0;32m      5\u001b[0m sobely \u001b[39m=\u001b[39m cv\u001b[39m.\u001b[39mSobel(gray_image, cv\u001b[39m.\u001b[39mCV_64F,\u001b[39m0\u001b[39m,\u001b[39m1\u001b[39m,ksize\u001b[39m=\u001b[39m\u001b[39m3\u001b[39m)\n\u001b[0;32m      6\u001b[0m sobelxy1 \u001b[39m=\u001b[39m cv\u001b[39m.\u001b[39mSobel(gray_image, cv\u001b[39m.\u001b[39mCV_64F,\u001b[39m1\u001b[39m,\u001b[39m1\u001b[39m,ksize\u001b[39m=\u001b[39m\u001b[39m3\u001b[39m)\n\u001b[1;32m----> 7\u001b[0m sobelxy2 \u001b[39m=\u001b[39m cv\u001b[39m.\u001b[39;49mSobel(gray_image, cv\u001b[39m.\u001b[39;49mCV_64F,\u001b[39m-\u001b[39;49m\u001b[39m1\u001b[39;49m,\u001b[39m1\u001b[39;49m,ksize\u001b[39m=\u001b[39;49m\u001b[39m3\u001b[39;49m)\n\u001b[0;32m      8\u001b[0m aplitude \u001b[39m=\u001b[39m np\u001b[39m.\u001b[39msqrt(np\u001b[39m.\u001b[39mpower(sobelx, \u001b[39m2\u001b[39m), np\u001b[39m.\u001b[39mpower(sobely, \u001b[39m2\u001b[39m))\n\u001b[0;32m      9\u001b[0m \u001b[39m# laplacian = cv.Laplacian(gray_image, cv.CV_64F)\u001b[39;00m\n",
      "\u001b[1;31merror\u001b[0m: OpenCV(4.6.0) D:\\a\\opencv-python\\opencv-python\\opencv\\modules\\imgproc\\src\\deriv.cpp:107: error: (-215:Assertion failed) dx >= 0 && dy >= 0 && dx+dy > 0 in function 'cv::getSobelKernels'\n"
     ]
    }
   ],
   "source": [
    "grad_train_X = cvt_to_gradients(train_X)\n",
    "grad_test_X = cvt_to_gradients(test_X)\n",
    "grad_train_X.shape, grad_test_X.shape\n",
    "\n",
    "bin_grad_train_X = np.abs(grad_train_X)\n",
    "bin_grad_test_X = np.abs(grad_test_X)"
   ]
  },
  {
   "cell_type": "code",
   "execution_count": 35,
   "metadata": {},
   "outputs": [
    {
     "data": {
      "text/plain": [
       "(3.848439373075962, -3.870525425300002)"
      ]
     },
     "execution_count": 35,
     "metadata": {},
     "output_type": "execute_result"
    }
   ],
   "source": [
    "np.max(grad_train_X), np.min(grad_train_X)"
   ]
  },
  {
   "cell_type": "code",
   "execution_count": 140,
   "metadata": {},
   "outputs": [
    {
     "data": {
      "text/plain": [
       "<matplotlib.image.AxesImage at 0x2a9bcbe12b0>"
      ]
     },
     "execution_count": 140,
     "metadata": {},
     "output_type": "execute_result"
    },
    {
     "data": {
      "image/png": "[encoded data removed]",
      "text/plain": [
       "<Figure size 640x480 with 1 Axes>"
      ]
     },
     "metadata": {},
     "output_type": "display_data"
    }
   ],
   "source": [
    "plt.imshow(grad_train_X[402, ..., 1], 'gray')"
   ]
  },
  {
   "cell_type": "code",
   "execution_count": 46,
   "metadata": {},
   "outputs": [],
   "source": [
    "model = Sequential([\n",
    "    layers.Input(shape=(None, None, 4)),\n",
    "    layers.Resizing(64, 64),\n",
    "    # layers.RandomFlip('horizontal'),\n",
    "    layers.Conv2D(32, (3, 3), activation='relu'),\n",
    "    layers.MaxPooling2D((2, 2)),\n",
    "    layers.Conv2D(64, (3, 3), activation='relu'),\n",
    "    layers.MaxPooling2D((2, 2)),\n",
    "    layers.Conv2D(128, (3, 3), activation='relu'),\n",
    "    layers.MaxPooling2D((2, 2)),\n",
    "    layers.Conv2D(256, (3, 3), activation='relu'),\n",
    "    layers.Flatten(),\n",
    "    layers.Dense(256, activation='relu'),\n",
    "    layers.Dropout(0.5),\n",
    "    layers.Dense(128, activation='relu'),\n",
    "    layers.Dropout(0.5),\n",
    "    layers.Dense(10, activation='softmax'),\n",
    "])"
   ]
  },
  {
   "cell_type": "code",
   "execution_count": 47,
   "metadata": {},
   "outputs": [
    {
     "name": "stdout",
     "output_type": "stream",
     "text": [
      "Model: \"sequential_6\"\n",
      "_________________________________________________________________\n",
      " Layer (type)                Output Shape              Param #   \n",
      "=================================================================\n",
      " resizing_6 (Resizing)       (None, 64, 64, 4)         0         \n",
      "                                                                 \n",
      " conv2d_24 (Conv2D)          (None, 62, 62, 32)        1184      \n",
      "                                                                 \n",
      " max_pooling2d_18 (MaxPoolin  (None, 31, 31, 32)       0         \n",
      " g2D)                                                            \n",
      "                                                                 \n",
      " conv2d_25 (Conv2D)          (None, 29, 29, 64)        18496     \n",
      "                                                                 \n",
      " max_pooling2d_19 (MaxPoolin  (None, 14, 14, 64)       0         \n",
      " g2D)                                                            \n",
      "                                                                 \n",
      " conv2d_26 (Conv2D)          (None, 12, 12, 128)       73856     \n",
      "                                                                 \n",
      " max_pooling2d_20 (MaxPoolin  (None, 6, 6, 128)        0         \n",
      " g2D)                                                            \n",
      "                                                                 \n",
      " conv2d_27 (Conv2D)          (None, 4, 4, 256)         295168    \n",
      "                                                                 \n",
      " flatten_6 (Flatten)         (None, 4096)              0         \n",
      "                                                                 \n",
      " dense_18 (Dense)            (None, 256)               1048832   \n",
      "                                                                 \n",
      " dropout_12 (Dropout)        (None, 256)               0         \n",
      "                                                                 \n",
      " dense_19 (Dense)            (None, 128)               32896     \n",
      "                                                                 \n",
      " dropout_13 (Dropout)        (None, 128)               0         \n",
      "                                                                 \n",
      " dense_20 (Dense)            (None, 10)                1290      \n",
      "                                                                 \n",
      "=================================================================\n",
      "Total params: 1,471,722\n",
      "Trainable params: 1,471,722\n",
      "Non-trainable params: 0\n",
      "_________________________________________________________________\n"
     ]
    }
   ],
   "source": [
    "model.summary()"
   ]
  },
  {
   "cell_type": "code",
   "execution_count": 48,
   "metadata": {},
   "outputs": [],
   "source": [
    "model.compile(optimizer='adam',\n",
    "              loss='categorical_crossentropy',\n",
    "              metrics=['accuracy'])"
   ]
  },
  {
   "cell_type": "code",
   "execution_count": 49,
   "metadata": {},
   "outputs": [
    {
     "name": "stdout",
     "output_type": "stream",
     "text": [
      "Epoch 1/40\n",
      "157/157 [==============================] - 2s 12ms/step - loss: 1.8786 - accuracy: 0.2880 - val_loss: 1.4522 - val_accuracy: 0.4360\n",
      "Epoch 2/40\n",
      "157/157 [==============================] - 2s 10ms/step - loss: 1.1140 - accuracy: 0.5998 - val_loss: 1.5389 - val_accuracy: 0.4780\n",
      "Epoch 3/40\n",
      "157/157 [==============================] - 2s 10ms/step - loss: 0.6999 - accuracy: 0.7541 - val_loss: 1.5232 - val_accuracy: 0.5780\n",
      "Epoch 4/40\n",
      "157/157 [==============================] - 2s 11ms/step - loss: 0.4252 - accuracy: 0.8533 - val_loss: 1.4239 - val_accuracy: 0.6120\n",
      "Epoch 5/40\n",
      "157/157 [==============================] - 2s 10ms/step - loss: 0.2662 - accuracy: 0.9086 - val_loss: 2.0282 - val_accuracy: 0.5840\n",
      "Epoch 6/40\n",
      "157/157 [==============================] - 2s 10ms/step - loss: 0.2144 - accuracy: 0.9321 - val_loss: 2.1870 - val_accuracy: 0.6000\n",
      "Epoch 7/40\n",
      "157/157 [==============================] - 2s 10ms/step - loss: 0.1399 - accuracy: 0.9561 - val_loss: 1.8359 - val_accuracy: 0.6420\n",
      "Epoch 8/40\n",
      "157/157 [==============================] - 2s 10ms/step - loss: 0.0883 - accuracy: 0.9730 - val_loss: 1.9603 - val_accuracy: 0.6500\n",
      "Epoch 9/40\n",
      "157/157 [==============================] - 2s 10ms/step - loss: 0.0913 - accuracy: 0.9726 - val_loss: 2.2586 - val_accuracy: 0.6100\n",
      "Epoch 10/40\n",
      "157/157 [==============================] - 2s 10ms/step - loss: 0.0639 - accuracy: 0.9815 - val_loss: 2.4655 - val_accuracy: 0.6660\n",
      "Epoch 11/40\n",
      "157/157 [==============================] - 2s 11ms/step - loss: 0.0585 - accuracy: 0.9834 - val_loss: 2.4907 - val_accuracy: 0.6280\n",
      "Epoch 12/40\n",
      "157/157 [==============================] - 2s 10ms/step - loss: 0.0684 - accuracy: 0.9804 - val_loss: 2.5834 - val_accuracy: 0.6340\n",
      "Epoch 13/40\n",
      "157/157 [==============================] - 2s 10ms/step - loss: 0.0431 - accuracy: 0.9887 - val_loss: 3.2045 - val_accuracy: 0.6560\n",
      "Epoch 14/40\n",
      "157/157 [==============================] - 2s 10ms/step - loss: 0.0541 - accuracy: 0.9846 - val_loss: 2.7767 - val_accuracy: 0.6360\n",
      "Epoch 15/40\n",
      "157/157 [==============================] - 2s 11ms/step - loss: 0.0509 - accuracy: 0.9850 - val_loss: 2.7183 - val_accuracy: 0.6380\n",
      "Epoch 16/40\n",
      "157/157 [==============================] - 2s 10ms/step - loss: 0.0396 - accuracy: 0.9872 - val_loss: 3.0372 - val_accuracy: 0.6860\n",
      "Epoch 17/40\n",
      "157/157 [==============================] - 2s 10ms/step - loss: 0.0304 - accuracy: 0.9931 - val_loss: 3.9170 - val_accuracy: 0.6440\n",
      "Epoch 18/40\n",
      "157/157 [==============================] - 2s 10ms/step - loss: 0.0475 - accuracy: 0.9865 - val_loss: 2.5024 - val_accuracy: 0.6840\n",
      "Epoch 19/40\n",
      "157/157 [==============================] - 2s 10ms/step - loss: 0.0295 - accuracy: 0.9916 - val_loss: 2.6655 - val_accuracy: 0.6700\n",
      "Epoch 20/40\n",
      "157/157 [==============================] - 2s 10ms/step - loss: 0.0402 - accuracy: 0.9893 - val_loss: 2.7299 - val_accuracy: 0.6700\n",
      "Epoch 21/40\n",
      "157/157 [==============================] - 2s 10ms/step - loss: 0.0348 - accuracy: 0.9902 - val_loss: 3.0649 - val_accuracy: 0.6340\n",
      "Epoch 22/40\n",
      "157/157 [==============================] - 2s 10ms/step - loss: 0.0209 - accuracy: 0.9946 - val_loss: 3.0008 - val_accuracy: 0.6480\n",
      "Epoch 23/40\n",
      "157/157 [==============================] - 2s 10ms/step - loss: 0.0466 - accuracy: 0.9888 - val_loss: 2.6476 - val_accuracy: 0.6920\n",
      "Epoch 24/40\n",
      "157/157 [==============================] - 2s 10ms/step - loss: 0.0169 - accuracy: 0.9958 - val_loss: 3.1725 - val_accuracy: 0.6700\n",
      "Epoch 25/40\n",
      "157/157 [==============================] - 2s 10ms/step - loss: 0.0378 - accuracy: 0.9906 - val_loss: 2.9482 - val_accuracy: 0.6380\n",
      "Epoch 26/40\n",
      "157/157 [==============================] - 2s 11ms/step - loss: 0.0267 - accuracy: 0.9925 - val_loss: 2.8988 - val_accuracy: 0.6500\n",
      "Epoch 27/40\n",
      "157/157 [==============================] - 2s 11ms/step - loss: 0.0186 - accuracy: 0.9947 - val_loss: 3.1316 - val_accuracy: 0.6660\n",
      "Epoch 28/40\n",
      "157/157 [==============================] - 2s 10ms/step - loss: 0.0249 - accuracy: 0.9942 - val_loss: 3.3701 - val_accuracy: 0.6580\n",
      "Epoch 29/40\n",
      "157/157 [==============================] - 2s 11ms/step - loss: 0.0350 - accuracy: 0.9911 - val_loss: 2.7994 - val_accuracy: 0.6660\n",
      "Epoch 30/40\n",
      "157/157 [==============================] - 2s 10ms/step - loss: 0.0408 - accuracy: 0.9895 - val_loss: 4.4505 - val_accuracy: 0.5720\n",
      "Epoch 31/40\n",
      "157/157 [==============================] - 2s 10ms/step - loss: 0.0284 - accuracy: 0.9917 - val_loss: 3.2361 - val_accuracy: 0.6720\n",
      "Epoch 32/40\n",
      "157/157 [==============================] - 2s 10ms/step - loss: 0.0110 - accuracy: 0.9963 - val_loss: 3.6008 - val_accuracy: 0.6560\n",
      "Epoch 33/40\n",
      "157/157 [==============================] - 2s 10ms/step - loss: 0.0249 - accuracy: 0.9938 - val_loss: 3.3531 - val_accuracy: 0.6660\n",
      "Epoch 34/40\n",
      "157/157 [==============================] - 2s 10ms/step - loss: 0.0297 - accuracy: 0.9923 - val_loss: 3.2369 - val_accuracy: 0.6640\n",
      "Epoch 35/40\n",
      "157/157 [==============================] - 2s 10ms/step - loss: 0.0108 - accuracy: 0.9967 - val_loss: 3.1760 - val_accuracy: 0.6940\n",
      "Epoch 36/40\n",
      "157/157 [==============================] - 2s 10ms/step - loss: 0.0123 - accuracy: 0.9968 - val_loss: 2.9739 - val_accuracy: 0.7120\n",
      "Epoch 37/40\n",
      "157/157 [==============================] - 2s 10ms/step - loss: 0.0359 - accuracy: 0.9919 - val_loss: 2.7079 - val_accuracy: 0.6660\n",
      "Epoch 38/40\n",
      "157/157 [==============================] - 2s 10ms/step - loss: 0.0173 - accuracy: 0.9951 - val_loss: 3.0616 - val_accuracy: 0.6780\n",
      "Epoch 39/40\n",
      "157/157 [==============================] - 2s 10ms/step - loss: 0.0233 - accuracy: 0.9938 - val_loss: 3.1595 - val_accuracy: 0.6500\n",
      "Epoch 40/40\n",
      "157/157 [==============================] - 2s 10ms/step - loss: 0.0167 - accuracy: 0.9958 - val_loss: 3.6148 - val_accuracy: 0.6560\n"
     ]
    }
   ],
   "source": [
    "history = model.fit(bin_grad_train_X, train_y, validation_data=(bin_grad_test_X, test_y), epochs=40, batch_size=64)"
   ]
  },
  {
   "cell_type": "code",
   "execution_count": 50,
   "metadata": {},
   "outputs": [
    {
     "name": "stdout",
     "output_type": "stream",
     "text": [
      "16/16 [==============================] - 0s 8ms/step\n",
      "              precision    recall  f1-score   support\n",
      "\n",
      "           0       0.41      0.38      0.40        50\n",
      "           1       0.52      0.84      0.64        50\n",
      "           2       0.54      0.38      0.45        50\n",
      "           3       0.74      0.84      0.79        50\n",
      "           4       0.40      0.62      0.48        50\n",
      "           5       0.96      0.88      0.92        50\n",
      "           6       0.72      0.56      0.63        50\n",
      "           7       1.00      0.88      0.94        50\n",
      "           8       0.69      0.44      0.54        50\n",
      "           9       0.88      0.74      0.80        50\n",
      "\n",
      "    accuracy                           0.66       500\n",
      "   macro avg       0.69      0.66      0.66       500\n",
      "weighted avg       0.69      0.66      0.66       500\n",
      "\n"
     ]
    },
    {
     "data": {
      "image/png": "[encoded data removed]",
      "text/plain": [
       "<Figure size 640x480 with 2 Axes>"
      ]
     },
     "metadata": {},
     "output_type": "display_data"
    }
   ],
   "source": [
    "predictions = model.predict(bin_grad_test_X)\n",
    "true_classes = np.argmax(test_y, axis=1)\n",
    "predicted_classes = np.argmax(predictions, axis=1)\n",
    "\n",
    "report = classification_report(true_classes, predicted_classes)\n",
    "cm = confusion_matrix(true_classes, predicted_classes)\n",
    "\n",
    "print(report)\n",
    "ConfusionMatrixDisplay.from_predictions(\n",
    "    true_classes, \n",
    "    predicted_classes, \n",
    "    display_labels=labels, \n",
    "    xticks_rotation='vertical',\n",
    ");"
   ]
  }
 ],
 "metadata": {
  "kernelspec": {
   "display_name": "Python 3.9.15 ('tf')",
   "language": "python",
   "name": "python3"
  },
  "language_info": {
   "codemirror_mode": {
    "name": "ipython",
    "version": 3
   },
   "file_extension": ".py",
   "mimetype": "text/x-python",
   "name": "python",
   "nbconvert_exporter": "python",
   "pygments_lexer": "ipython3",
   "version": "3.9.15"
  },
  "orig_nbformat": 4,
  "vscode": {
   "interpreter": {
    "hash": "f14c42d44d5aca93a07ae152a604bc05c55a838d5339618e42b4c4346ef3b75c"
   }
  }
 },
 "nbformat": 4,
 "nbformat_minor": 2
}
