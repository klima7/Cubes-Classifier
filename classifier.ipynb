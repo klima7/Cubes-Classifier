{
 "cells": [
  {
   "cell_type": "code",
   "execution_count": 26,
   "metadata": {},
   "outputs": [],
   "source": [
    "import numpy as np\n",
    "from sklearn.metrics import classification_report\n",
    "import tensorflow as tf\n",
    "import tensorflow.keras.layers as layers\n",
    "from tensorflow.keras.models import Sequential\n",
    "\n",
    "import cv2 as cv"
   ]
  },
  {
   "cell_type": "markdown",
   "metadata": {},
   "source": [
    "### Reading data"
   ]
  },
  {
   "cell_type": "code",
   "execution_count": 46,
   "metadata": {},
   "outputs": [
    {
     "name": "stdout",
     "output_type": "stream",
     "text": [
      "Found 10019 files belonging to 10 classes.\n",
      "Found 353 files belonging to 10 classes.\n"
     ]
    }
   ],
   "source": [
    "train_ds = tf.keras.utils.image_dataset_from_directory(\n",
    "  'data/dataset/',\n",
    "  label_mode='categorical',\n",
    "  shuffle=True,\n",
    "  seed=42,\n",
    "  image_size=(32, 32),\n",
    ")\n",
    "\n",
    "test_ds = tf.keras.utils.image_dataset_from_directory(\n",
    "  'data/test_dataset/',\n",
    "  label_mode='categorical',\n",
    "  shuffle=True,\n",
    "  seed=42,\n",
    "  image_size=(32, 32),\n",
    ")\n",
    "\n",
    "train_X, train_y = zip(*train_ds)\n",
    "train_X = np.concatenate(train_X)\n",
    "train_y = np.concatenate(train_y)\n",
    "\n",
    "test_X, test_y = zip(*test_ds)\n",
    "test_X = np.concatenate(test_X)\n",
    "test_y = np.concatenate(test_y)\n"
   ]
  },
  {
   "cell_type": "markdown",
   "metadata": {},
   "source": [
    "### Gray"
   ]
  },
  {
   "cell_type": "code",
   "execution_count": 61,
   "metadata": {},
   "outputs": [],
   "source": [
    "def cvt_to_gray(images):\n",
    "    gray_images = []\n",
    "    for rgb_image in images:\n",
    "        gray_image = cv.cvtColor(rgb_image, cv.COLOR_RGB2GRAY)\n",
    "        gray_images.append(gray_image)\n",
    "    gray_images = np.array(gray_images)\n",
    "    gray_images = gray_images[..., np.newaxis]\n",
    "    return gray_images"
   ]
  },
  {
   "cell_type": "code",
   "execution_count": 62,
   "metadata": {},
   "outputs": [],
   "source": [
    "gray_train_X = cvt_to_gray(train_X)\n",
    "gray_test_X = cvt_to_gray(test_X)\n",
    "gray_train_X, gray_test_X"
   ]
  },
  {
   "cell_type": "markdown",
   "metadata": {},
   "source": [
    "### Gradients"
   ]
  },
  {
   "cell_type": "code",
   "execution_count": 86,
   "metadata": {},
   "outputs": [],
   "source": [
    "def get_gradients(rgb_image):\n",
    "    gray_image = cv.cvtColor(rgb_image, cv.COLOR_RGB2GRAY)\n",
    "    \n",
    "    sobelx = cv.Sobel(gray_image, cv.CV_64F,1,0,ksize=3)\n",
    "    sobely = cv.Sobel(gray_image, cv.CV_64F,0,1,ksize=3)\n",
    "\n",
    "    return [sobelx, sobely]"
   ]
  },
  {
   "cell_type": "code",
   "execution_count": 87,
   "metadata": {},
   "outputs": [],
   "source": [
    "def cvt_to_gradients(images):\n",
    "    grad_images = []\n",
    "    for rgb_image in images:\n",
    "        gradients = get_gradients(rgb_image)\n",
    "        grad_images.append(gradients)\n",
    "    grad_images = np.array(grad_images)\n",
    "    grad_images = np.transpose(grad_images, (0, 2, 3, 1))\n",
    "    return grad_images"
   ]
  },
  {
   "cell_type": "code",
   "execution_count": 88,
   "metadata": {},
   "outputs": [
    {
     "data": {
      "text/plain": [
       "((10019, 32, 32, 2), (353, 32, 32, 2))"
      ]
     },
     "execution_count": 88,
     "metadata": {},
     "output_type": "execute_result"
    }
   ],
   "source": [
    "grad_train_X = cvt_to_gradients(train_X)\n",
    "grad_test_X = cvt_to_gradients(test_X)\n",
    "grad_train_X.shape, grad_test_X.shape"
   ]
  },
  {
   "cell_type": "code",
   "execution_count": 93,
   "metadata": {},
   "outputs": [],
   "source": [
    "model = Sequential([\n",
    "    layers.Input(shape=(None, None, 2)),\n",
    "    layers.Resizing(32, 32),\n",
    "    layers.Rescaling(1./255),\n",
    "    layers.RandomFlip('horizontal'),\n",
    "    layers.Conv2D(32, (3, 3), activation='relu'),\n",
    "    layers.MaxPooling2D((2, 2)),\n",
    "    layers.Conv2D(64, (3, 3), activation='relu'),\n",
    "    layers.MaxPooling2D((2, 2)),\n",
    "    layers.Conv2D(128, (3, 3), activation='relu'),\n",
    "    layers.Flatten(),\n",
    "    layers.Dense(256, activation='relu'),\n",
    "    layers.Dropout(0.5),\n",
    "    layers.Dense(128, activation='relu'),\n",
    "    layers.Dropout(0.5),\n",
    "    layers.Dense(10, activation='softmax'),\n",
    "])"
   ]
  },
  {
   "cell_type": "code",
   "execution_count": 94,
   "metadata": {},
   "outputs": [
    {
     "name": "stdout",
     "output_type": "stream",
     "text": [
      "Model: \"sequential_9\"\n",
      "_________________________________________________________________\n",
      " Layer (type)                Output Shape              Param #   \n",
      "=================================================================\n",
      " resizing_9 (Resizing)       (None, 32, 32, 2)         0         \n",
      "                                                                 \n",
      " rescaling_9 (Rescaling)     (None, 32, 32, 2)         0         \n",
      "                                                                 \n",
      " random_flip_9 (RandomFlip)  (None, 32, 32, 2)         0         \n",
      "                                                                 \n",
      " conv2d_27 (Conv2D)          (None, 30, 30, 32)        608       \n",
      "                                                                 \n",
      " max_pooling2d_18 (MaxPoolin  (None, 15, 15, 32)       0         \n",
      " g2D)                                                            \n",
      "                                                                 \n",
      " conv2d_28 (Conv2D)          (None, 13, 13, 64)        18496     \n",
      "                                                                 \n",
      " max_pooling2d_19 (MaxPoolin  (None, 6, 6, 64)         0         \n",
      " g2D)                                                            \n",
      "                                                                 \n",
      " conv2d_29 (Conv2D)          (None, 4, 4, 128)         73856     \n",
      "                                                                 \n",
      " flatten_9 (Flatten)         (None, 2048)              0         \n",
      "                                                                 \n",
      " dense_27 (Dense)            (None, 256)               524544    \n",
      "                                                                 \n",
      " dropout_18 (Dropout)        (None, 256)               0         \n",
      "                                                                 \n",
      " dense_28 (Dense)            (None, 128)               32896     \n",
      "                                                                 \n",
      " dropout_19 (Dropout)        (None, 128)               0         \n",
      "                                                                 \n",
      " dense_29 (Dense)            (None, 10)                1290      \n",
      "                                                                 \n",
      "=================================================================\n",
      "Total params: 651,690\n",
      "Trainable params: 651,690\n",
      "Non-trainable params: 0\n",
      "_________________________________________________________________\n"
     ]
    }
   ],
   "source": [
    "model.summary()"
   ]
  },
  {
   "cell_type": "code",
   "execution_count": 95,
   "metadata": {},
   "outputs": [],
   "source": [
    "model.compile(optimizer='adam',\n",
    "              loss='categorical_crossentropy',\n",
    "              metrics=['accuracy'])"
   ]
  },
  {
   "cell_type": "code",
   "execution_count": 96,
   "metadata": {},
   "outputs": [
    {
     "name": "stdout",
     "output_type": "stream",
     "text": [
      "Epoch 1/40\n",
      "157/157 [==============================] - 6s 34ms/step - loss: 2.0933 - accuracy: 0.2113 - val_loss: 2.2407 - val_accuracy: 0.2351\n",
      "Epoch 2/40\n",
      "157/157 [==============================] - 5s 29ms/step - loss: 1.3433 - accuracy: 0.5192 - val_loss: 2.0131 - val_accuracy: 0.3598\n",
      "Epoch 3/40\n",
      "157/157 [==============================] - 5s 31ms/step - loss: 0.8714 - accuracy: 0.7044 - val_loss: 2.1089 - val_accuracy: 0.3909\n",
      "Epoch 4/40\n",
      "157/157 [==============================] - 5s 32ms/step - loss: 0.6023 - accuracy: 0.8003 - val_loss: 3.1782 - val_accuracy: 0.3088\n",
      "Epoch 5/40\n",
      "157/157 [==============================] - 5s 32ms/step - loss: 0.4359 - accuracy: 0.8532 - val_loss: 2.5113 - val_accuracy: 0.3768\n",
      "Epoch 6/40\n",
      "157/157 [==============================] - 5s 30ms/step - loss: 0.3059 - accuracy: 0.8992 - val_loss: 4.8239 - val_accuracy: 0.2663\n",
      "Epoch 7/40\n",
      "157/157 [==============================] - 5s 32ms/step - loss: 0.2236 - accuracy: 0.9284 - val_loss: 3.2095 - val_accuracy: 0.4079\n",
      "Epoch 8/40\n",
      "157/157 [==============================] - 5s 30ms/step - loss: 0.1616 - accuracy: 0.9471 - val_loss: 3.0271 - val_accuracy: 0.4249\n",
      "Epoch 9/40\n",
      "157/157 [==============================] - 5s 32ms/step - loss: 0.1354 - accuracy: 0.9561 - val_loss: 3.0383 - val_accuracy: 0.4986\n",
      "Epoch 10/40\n",
      "157/157 [==============================] - 5s 30ms/step - loss: 0.0856 - accuracy: 0.9734 - val_loss: 4.0725 - val_accuracy: 0.4334\n",
      "Epoch 11/40\n",
      "157/157 [==============================] - 5s 32ms/step - loss: 0.0868 - accuracy: 0.9748 - val_loss: 3.9314 - val_accuracy: 0.4448\n",
      "Epoch 12/40\n",
      "157/157 [==============================] - 5s 32ms/step - loss: 0.0784 - accuracy: 0.9746 - val_loss: 3.4529 - val_accuracy: 0.4759\n",
      "Epoch 13/40\n",
      "157/157 [==============================] - 5s 32ms/step - loss: 0.0712 - accuracy: 0.9795 - val_loss: 3.9010 - val_accuracy: 0.4136\n",
      "Epoch 14/40\n",
      "157/157 [==============================] - 5s 32ms/step - loss: 0.0668 - accuracy: 0.9798 - val_loss: 4.9421 - val_accuracy: 0.3796\n",
      "Epoch 15/40\n",
      "157/157 [==============================] - 5s 31ms/step - loss: 0.0617 - accuracy: 0.9809 - val_loss: 4.5538 - val_accuracy: 0.3938\n",
      "Epoch 16/40\n",
      "157/157 [==============================] - 5s 31ms/step - loss: 0.0677 - accuracy: 0.9794 - val_loss: 3.5893 - val_accuracy: 0.4816\n",
      "Epoch 17/40\n",
      "157/157 [==============================] - 5s 32ms/step - loss: 0.0494 - accuracy: 0.9846 - val_loss: 5.0154 - val_accuracy: 0.4136\n",
      "Epoch 18/40\n",
      "157/157 [==============================] - 5s 31ms/step - loss: 0.0742 - accuracy: 0.9776 - val_loss: 3.6095 - val_accuracy: 0.4589\n",
      "Epoch 19/40\n",
      "157/157 [==============================] - 5s 31ms/step - loss: 0.0472 - accuracy: 0.9870 - val_loss: 4.3054 - val_accuracy: 0.4164\n",
      "Epoch 20/40\n",
      "157/157 [==============================] - 5s 31ms/step - loss: 0.0670 - accuracy: 0.9814 - val_loss: 4.1512 - val_accuracy: 0.4873\n",
      "Epoch 21/40\n",
      "157/157 [==============================] - 5s 32ms/step - loss: 0.0503 - accuracy: 0.9848 - val_loss: 5.1839 - val_accuracy: 0.4193\n",
      "Epoch 22/40\n",
      "157/157 [==============================] - 5s 30ms/step - loss: 0.0285 - accuracy: 0.9915 - val_loss: 4.2909 - val_accuracy: 0.4703\n",
      "Epoch 23/40\n",
      "157/157 [==============================] - 5s 30ms/step - loss: 0.0370 - accuracy: 0.9880 - val_loss: 4.2263 - val_accuracy: 0.4561\n",
      "Epoch 24/40\n",
      "157/157 [==============================] - 5s 29ms/step - loss: 0.0374 - accuracy: 0.9892 - val_loss: 4.2361 - val_accuracy: 0.4788\n",
      "Epoch 25/40\n",
      "157/157 [==============================] - 5s 31ms/step - loss: 0.0564 - accuracy: 0.9861 - val_loss: 5.1896 - val_accuracy: 0.3994\n",
      "Epoch 26/40\n",
      "157/157 [==============================] - 5s 32ms/step - loss: 0.0439 - accuracy: 0.9870 - val_loss: 4.5511 - val_accuracy: 0.4674\n",
      "Epoch 27/40\n",
      "157/157 [==============================] - 5s 29ms/step - loss: 0.0171 - accuracy: 0.9947 - val_loss: 4.4657 - val_accuracy: 0.5184\n",
      "Epoch 28/40\n",
      "157/157 [==============================] - 5s 31ms/step - loss: 0.0480 - accuracy: 0.9853 - val_loss: 3.6080 - val_accuracy: 0.5212\n",
      "Epoch 29/40\n",
      "157/157 [==============================] - 5s 32ms/step - loss: 0.0273 - accuracy: 0.9926 - val_loss: 5.3768 - val_accuracy: 0.4306\n",
      "Epoch 30/40\n",
      "157/157 [==============================] - 5s 31ms/step - loss: 0.0286 - accuracy: 0.9924 - val_loss: 5.6048 - val_accuracy: 0.4334\n",
      "Epoch 31/40\n",
      "157/157 [==============================] - 5s 31ms/step - loss: 0.0731 - accuracy: 0.9812 - val_loss: 5.0967 - val_accuracy: 0.4023\n",
      "Epoch 32/40\n",
      "157/157 [==============================] - 5s 30ms/step - loss: 0.0245 - accuracy: 0.9926 - val_loss: 5.0080 - val_accuracy: 0.4476\n",
      "Epoch 33/40\n",
      "157/157 [==============================] - 5s 30ms/step - loss: 0.0228 - accuracy: 0.9932 - val_loss: 5.2384 - val_accuracy: 0.4504\n",
      "Epoch 34/40\n",
      "157/157 [==============================] - 5s 31ms/step - loss: 0.0483 - accuracy: 0.9868 - val_loss: 5.4008 - val_accuracy: 0.4023\n",
      "Epoch 35/40\n",
      "157/157 [==============================] - 5s 31ms/step - loss: 0.0595 - accuracy: 0.9844 - val_loss: 5.9494 - val_accuracy: 0.3456\n",
      "Epoch 36/40\n",
      "157/157 [==============================] - 5s 31ms/step - loss: 0.0277 - accuracy: 0.9930 - val_loss: 4.2240 - val_accuracy: 0.5184\n",
      "Epoch 37/40\n",
      "157/157 [==============================] - 5s 31ms/step - loss: 0.0192 - accuracy: 0.9945 - val_loss: 6.6628 - val_accuracy: 0.3824\n",
      "Epoch 38/40\n",
      "157/157 [==============================] - 5s 31ms/step - loss: 0.0279 - accuracy: 0.9918 - val_loss: 6.2336 - val_accuracy: 0.4334\n",
      "Epoch 39/40\n",
      "157/157 [==============================] - 5s 31ms/step - loss: 0.0269 - accuracy: 0.9931 - val_loss: 5.4205 - val_accuracy: 0.4788\n",
      "Epoch 40/40\n",
      "157/157 [==============================] - 5s 32ms/step - loss: 0.0331 - accuracy: 0.9912 - val_loss: 4.9075 - val_accuracy: 0.4646\n"
     ]
    }
   ],
   "source": [
    "history = model.fit(grad_train_X, train_y, validation_data=(grad_test_X, test_y), epochs=40, batch_size=64)"
   ]
  },
  {
   "cell_type": "code",
   "execution_count": 22,
   "metadata": {},
   "outputs": [],
   "source": [
    "X, y = zip(*test_ds)\n",
    "X = np.concatenate(X)\n",
    "y = np.concatenate(y)"
   ]
  },
  {
   "cell_type": "code",
   "execution_count": 203,
   "metadata": {},
   "outputs": [
    {
     "data": {
      "text/plain": [
       "((72, 32, 32, 3), (72, 10))"
      ]
     },
     "execution_count": 203,
     "metadata": {},
     "output_type": "execute_result"
    }
   ],
   "source": [
    "X.shape, y.shape"
   ]
  },
  {
   "cell_type": "code",
   "execution_count": 69,
   "metadata": {},
   "outputs": [
    {
     "name": "stdout",
     "output_type": "stream",
     "text": [
      "WARNING:tensorflow:Model was constructed with shape (None, None, None, 1) for input KerasTensor(type_spec=TensorSpec(shape=(None, None, None, 1), dtype=tf.float32, name='input_8'), name='input_8', description=\"created by layer 'input_8'\"), but it was called on an input with incompatible shape (None, 32, 32, 3).\n"
     ]
    },
    {
     "ename": "ValueError",
     "evalue": "in user code:\n\n    File \"c:\\Users\\Lukasz\\anaconda3\\envs\\tf\\lib\\site-packages\\keras\\engine\\training.py\", line 2041, in predict_function  *\n        return step_function(self, iterator)\n    File \"c:\\Users\\Lukasz\\anaconda3\\envs\\tf\\lib\\site-packages\\keras\\engine\\training.py\", line 2027, in step_function  **\n        outputs = model.distribute_strategy.run(run_step, args=(data,))\n    File \"c:\\Users\\Lukasz\\anaconda3\\envs\\tf\\lib\\site-packages\\keras\\engine\\training.py\", line 2015, in run_step  **\n        outputs = model.predict_step(data)\n    File \"c:\\Users\\Lukasz\\anaconda3\\envs\\tf\\lib\\site-packages\\keras\\engine\\training.py\", line 1983, in predict_step\n        return self(x, training=False)\n    File \"c:\\Users\\Lukasz\\anaconda3\\envs\\tf\\lib\\site-packages\\keras\\utils\\traceback_utils.py\", line 70, in error_handler\n        raise e.with_traceback(filtered_tb) from None\n    File \"c:\\Users\\Lukasz\\anaconda3\\envs\\tf\\lib\\site-packages\\keras\\engine\\input_spec.py\", line 277, in assert_input_compatibility\n        raise ValueError(\n\n    ValueError: Exception encountered when calling layer \"sequential_7\" \"                 f\"(type Sequential).\n    \n    Input 0 of layer \"conv2d_21\" is incompatible with the layer: expected axis -1 of input shape to have value 1, but received input with shape (None, 32, 32, 3)\n    \n    Call arguments received by layer \"sequential_7\" \"                 f\"(type Sequential):\n      • inputs=tf.Tensor(shape=(None, 32, 32, 3), dtype=float32)\n      • training=False\n      • mask=None\n",
     "output_type": "error",
     "traceback": [
      "\u001b[1;31m---------------------------------------------------------------------------\u001b[0m",
      "\u001b[1;31mValueError\u001b[0m                                Traceback (most recent call last)",
      "Cell \u001b[1;32mIn [69], line 5\u001b[0m\n\u001b[0;32m      2\u001b[0m X \u001b[39m=\u001b[39m np\u001b[39m.\u001b[39mconcatenate(X)\n\u001b[0;32m      3\u001b[0m y \u001b[39m=\u001b[39m np\u001b[39m.\u001b[39mconcatenate(y)\n\u001b[1;32m----> 5\u001b[0m predictions \u001b[39m=\u001b[39m model\u001b[39m.\u001b[39;49mpredict(X)\n\u001b[0;32m      6\u001b[0m report \u001b[39m=\u001b[39m classification_report(np\u001b[39m.\u001b[39margmax(y, axis\u001b[39m=\u001b[39m\u001b[39m1\u001b[39m), np\u001b[39m.\u001b[39margmax(predictions, axis\u001b[39m=\u001b[39m\u001b[39m1\u001b[39m))\n\u001b[0;32m      7\u001b[0m \u001b[39mprint\u001b[39m(report)\n",
      "File \u001b[1;32mc:\\Users\\Lukasz\\anaconda3\\envs\\tf\\lib\\site-packages\\keras\\utils\\traceback_utils.py:70\u001b[0m, in \u001b[0;36mfilter_traceback.<locals>.error_handler\u001b[1;34m(*args, **kwargs)\u001b[0m\n\u001b[0;32m     67\u001b[0m     filtered_tb \u001b[39m=\u001b[39m _process_traceback_frames(e\u001b[39m.\u001b[39m__traceback__)\n\u001b[0;32m     68\u001b[0m     \u001b[39m# To get the full stack trace, call:\u001b[39;00m\n\u001b[0;32m     69\u001b[0m     \u001b[39m# `tf.debugging.disable_traceback_filtering()`\u001b[39;00m\n\u001b[1;32m---> 70\u001b[0m     \u001b[39mraise\u001b[39;00m e\u001b[39m.\u001b[39mwith_traceback(filtered_tb) \u001b[39mfrom\u001b[39;00m \u001b[39mNone\u001b[39m\n\u001b[0;32m     71\u001b[0m \u001b[39mfinally\u001b[39;00m:\n\u001b[0;32m     72\u001b[0m     \u001b[39mdel\u001b[39;00m filtered_tb\n",
      "File \u001b[1;32m~\\AppData\\Local\\Temp\\__autograph_generated_filemhw1txdb.py:15\u001b[0m, in \u001b[0;36mouter_factory.<locals>.inner_factory.<locals>.tf__predict_function\u001b[1;34m(iterator)\u001b[0m\n\u001b[0;32m     13\u001b[0m \u001b[39mtry\u001b[39;00m:\n\u001b[0;32m     14\u001b[0m     do_return \u001b[39m=\u001b[39m \u001b[39mTrue\u001b[39;00m\n\u001b[1;32m---> 15\u001b[0m     retval_ \u001b[39m=\u001b[39m ag__\u001b[39m.\u001b[39mconverted_call(ag__\u001b[39m.\u001b[39mld(step_function), (ag__\u001b[39m.\u001b[39mld(\u001b[39mself\u001b[39m), ag__\u001b[39m.\u001b[39mld(iterator)), \u001b[39mNone\u001b[39;00m, fscope)\n\u001b[0;32m     16\u001b[0m \u001b[39mexcept\u001b[39;00m:\n\u001b[0;32m     17\u001b[0m     do_return \u001b[39m=\u001b[39m \u001b[39mFalse\u001b[39;00m\n",
      "\u001b[1;31mValueError\u001b[0m: in user code:\n\n    File \"c:\\Users\\Lukasz\\anaconda3\\envs\\tf\\lib\\site-packages\\keras\\engine\\training.py\", line 2041, in predict_function  *\n        return step_function(self, iterator)\n    File \"c:\\Users\\Lukasz\\anaconda3\\envs\\tf\\lib\\site-packages\\keras\\engine\\training.py\", line 2027, in step_function  **\n        outputs = model.distribute_strategy.run(run_step, args=(data,))\n    File \"c:\\Users\\Lukasz\\anaconda3\\envs\\tf\\lib\\site-packages\\keras\\engine\\training.py\", line 2015, in run_step  **\n        outputs = model.predict_step(data)\n    File \"c:\\Users\\Lukasz\\anaconda3\\envs\\tf\\lib\\site-packages\\keras\\engine\\training.py\", line 1983, in predict_step\n        return self(x, training=False)\n    File \"c:\\Users\\Lukasz\\anaconda3\\envs\\tf\\lib\\site-packages\\keras\\utils\\traceback_utils.py\", line 70, in error_handler\n        raise e.with_traceback(filtered_tb) from None\n    File \"c:\\Users\\Lukasz\\anaconda3\\envs\\tf\\lib\\site-packages\\keras\\engine\\input_spec.py\", line 277, in assert_input_compatibility\n        raise ValueError(\n\n    ValueError: Exception encountered when calling layer \"sequential_7\" \"                 f\"(type Sequential).\n    \n    Input 0 of layer \"conv2d_21\" is incompatible with the layer: expected axis -1 of input shape to have value 1, but received input with shape (None, 32, 32, 3)\n    \n    Call arguments received by layer \"sequential_7\" \"                 f\"(type Sequential):\n      • inputs=tf.Tensor(shape=(None, 32, 32, 3), dtype=float32)\n      • training=False\n      • mask=None\n"
     ]
    }
   ],
   "source": [
    "X, y = zip(*test_ds)\n",
    "X = np.concatenate(X)\n",
    "y = np.concatenate(y)\n",
    "\n",
    "predictions = model.predict(X)\n",
    "report = classification_report(np.argmax(y, axis=1), np.argmax(predictions, axis=1))\n",
    "print(report)"
   ]
  }
 ],
 "metadata": {
  "kernelspec": {
   "display_name": "Python 3.9.15 ('tf')",
   "language": "python",
   "name": "python3"
  },
  "language_info": {
   "codemirror_mode": {
    "name": "ipython",
    "version": 3
   },
   "file_extension": ".py",
   "mimetype": "text/x-python",
   "name": "python",
   "nbconvert_exporter": "python",
   "pygments_lexer": "ipython3",
   "version": "3.9.15"
  },
  "orig_nbformat": 4,
  "vscode": {
   "interpreter": {
    "hash": "f14c42d44d5aca93a07ae152a604bc05c55a838d5339618e42b4c4346ef3b75c"
   }
  }
 },
 "nbformat": 4,
 "nbformat_minor": 2
}
