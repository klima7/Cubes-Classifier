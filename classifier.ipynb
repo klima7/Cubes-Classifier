{
 "cells": [
  {
   "cell_type": "code",
   "execution_count": 1,
   "metadata": {},
   "outputs": [],
   "source": [
    "import numpy as np\n",
    "from sklearn.metrics import classification_report\n",
    "import tensorflow as tf\n",
    "import tensorflow.keras.layers as layers\n",
    "from tensorflow.keras.models import Sequential\n",
    "\n",
    "import cv2"
   ]
  },
  {
   "cell_type": "code",
   "execution_count": 2,
   "metadata": {},
   "outputs": [
    {
     "name": "stdout",
     "output_type": "stream",
     "text": [
      "Found 10019 files belonging to 10 classes.\n",
      "Found 353 files belonging to 10 classes.\n"
     ]
    }
   ],
   "source": [
    "train_ds = tf.keras.utils.image_dataset_from_directory(\n",
    "  'data/dataset/',\n",
    "  label_mode='categorical',\n",
    "  shuffle=True,\n",
    "  seed=42,\n",
    "  image_size=(32, 32),\n",
    ")\n",
    "\n",
    "test_ds = tf.keras.utils.image_dataset_from_directory(\n",
    "  'data/test_dataset/',\n",
    "  label_mode='categorical',\n",
    "  shuffle=True,\n",
    "  seed=42,\n",
    "  image_size=(32, 32),\n",
    ")\n",
    "\n",
    "def transform_dataset(x, y):\n",
    "  # gray = cv2.cvtColor(x, cv2.COLOR_RGB2GRAY)\n",
    "  print(x.shape)\n",
    "  print(y)\n",
    "  return x\n",
    "\n",
    "# train_ds = train_ds.map(transform_dataset)\n"
   ]
  },
  {
   "cell_type": "code",
   "execution_count": 3,
   "metadata": {},
   "outputs": [],
   "source": [
    "x, y = next(iter(train_ds))"
   ]
  },
  {
   "cell_type": "code",
   "execution_count": 10,
   "metadata": {},
   "outputs": [],
   "source": [
    "model = Sequential([\n",
    "    layers.Input(shape=(None, None, 3)),\n",
    "    layers.Resizing(32, 32),\n",
    "    layers.Rescaling(1./255),\n",
    "    # layers.RandomBrightness(0.2, value_range=(0, 1)),\n",
    "    layers.RandomFlip('horizontal'),\n",
    "    # layers.RandomRotation(0.2),\n",
    "    # layers.RandomZoom(),\n",
    "    # layers.RandomTranslation(),\n",
    "    # layers.RandomContrast(),\n",
    "    # layers.RandomCrop()\n",
    "    layers.Conv2D(32, (3, 3), activation='relu'),\n",
    "    layers.MaxPooling2D((2, 2)),\n",
    "    layers.Conv2D(64, (3, 3), activation='relu'),\n",
    "    layers.MaxPooling2D((2, 2)),\n",
    "    layers.Conv2D(128, (3, 3), activation='relu'),\n",
    "    layers.Flatten(),\n",
    "    layers.Dense(256, activation='relu'),\n",
    "    layers.Dropout(0.5),\n",
    "    layers.Dense(128, activation='relu'),\n",
    "    layers.Dropout(0.5),\n",
    "    layers.Dense(10, activation='softmax'),\n",
    "])"
   ]
  },
  {
   "cell_type": "code",
   "execution_count": 11,
   "metadata": {},
   "outputs": [
    {
     "name": "stdout",
     "output_type": "stream",
     "text": [
      "Model: \"sequential_2\"\n",
      "_________________________________________________________________\n",
      " Layer (type)                Output Shape              Param #   \n",
      "=================================================================\n",
      " resizing_2 (Resizing)       (None, 32, 32, 3)         0         \n",
      "                                                                 \n",
      " rescaling_2 (Rescaling)     (None, 32, 32, 3)         0         \n",
      "                                                                 \n",
      " random_flip_2 (RandomFlip)  (None, 32, 32, 3)         0         \n",
      "                                                                 \n",
      " conv2d_6 (Conv2D)           (None, 30, 30, 32)        896       \n",
      "                                                                 \n",
      " max_pooling2d_4 (MaxPooling  (None, 15, 15, 32)       0         \n",
      " 2D)                                                             \n",
      "                                                                 \n",
      " conv2d_7 (Conv2D)           (None, 13, 13, 64)        18496     \n",
      "                                                                 \n",
      " max_pooling2d_5 (MaxPooling  (None, 6, 6, 64)         0         \n",
      " 2D)                                                             \n",
      "                                                                 \n",
      " conv2d_8 (Conv2D)           (None, 4, 4, 128)         73856     \n",
      "                                                                 \n",
      " flatten_2 (Flatten)         (None, 2048)              0         \n",
      "                                                                 \n",
      " dense_6 (Dense)             (None, 256)               524544    \n",
      "                                                                 \n",
      " dropout_4 (Dropout)         (None, 256)               0         \n",
      "                                                                 \n",
      " dense_7 (Dense)             (None, 128)               32896     \n",
      "                                                                 \n",
      " dropout_5 (Dropout)         (None, 128)               0         \n",
      "                                                                 \n",
      " dense_8 (Dense)             (None, 10)                1290      \n",
      "                                                                 \n",
      "=================================================================\n",
      "Total params: 651,978\n",
      "Trainable params: 651,978\n",
      "Non-trainable params: 0\n",
      "_________________________________________________________________\n"
     ]
    }
   ],
   "source": [
    "model.summary()"
   ]
  },
  {
   "cell_type": "code",
   "execution_count": 12,
   "metadata": {},
   "outputs": [],
   "source": [
    "model.compile(optimizer='adam',\n",
    "              loss='categorical_crossentropy',\n",
    "              metrics=['accuracy'])"
   ]
  },
  {
   "cell_type": "code",
   "execution_count": 13,
   "metadata": {},
   "outputs": [
    {
     "name": "stdout",
     "output_type": "stream",
     "text": [
      "Epoch 1/40\n",
      "314/314 [==============================] - 12s 36ms/step - loss: 1.9184 - accuracy: 0.2720 - val_loss: 2.3713 - val_accuracy: 0.2720\n",
      "Epoch 2/40\n",
      "314/314 [==============================] - 12s 37ms/step - loss: 1.1582 - accuracy: 0.5831 - val_loss: 4.2714 - val_accuracy: 0.2833\n",
      "Epoch 3/40\n",
      "314/314 [==============================] - 12s 37ms/step - loss: 0.7665 - accuracy: 0.7347 - val_loss: 4.1444 - val_accuracy: 0.3201\n",
      "Epoch 4/40\n",
      "314/314 [==============================] - 12s 38ms/step - loss: 0.5193 - accuracy: 0.8235 - val_loss: 4.0571 - val_accuracy: 0.3541\n",
      "Epoch 5/40\n",
      "314/314 [==============================] - 12s 38ms/step - loss: 0.3789 - accuracy: 0.8753 - val_loss: 5.3316 - val_accuracy: 0.3229\n",
      "Epoch 6/40\n",
      "314/314 [==============================] - 11s 36ms/step - loss: 0.2591 - accuracy: 0.9172 - val_loss: 3.3974 - val_accuracy: 0.3513\n",
      "Epoch 7/40\n",
      "314/314 [==============================] - 12s 36ms/step - loss: 0.1836 - accuracy: 0.9426 - val_loss: 5.0097 - val_accuracy: 0.3626\n",
      "Epoch 8/40\n",
      "314/314 [==============================] - 12s 37ms/step - loss: 0.1434 - accuracy: 0.9559 - val_loss: 4.6961 - val_accuracy: 0.3456\n",
      "Epoch 9/40\n",
      "314/314 [==============================] - 12s 38ms/step - loss: 0.1197 - accuracy: 0.9620 - val_loss: 4.2088 - val_accuracy: 0.3938\n",
      "Epoch 10/40\n",
      "314/314 [==============================] - 12s 38ms/step - loss: 0.1099 - accuracy: 0.9666 - val_loss: 5.1664 - val_accuracy: 0.3654\n",
      "Epoch 11/40\n",
      "314/314 [==============================] - 11s 36ms/step - loss: 0.0861 - accuracy: 0.9759 - val_loss: 5.0474 - val_accuracy: 0.3654\n",
      "Epoch 12/40\n",
      "314/314 [==============================] - 11s 35ms/step - loss: 0.0676 - accuracy: 0.9787 - val_loss: 5.3933 - val_accuracy: 0.3796\n",
      "Epoch 13/40\n",
      "314/314 [==============================] - 11s 34ms/step - loss: 0.0524 - accuracy: 0.9850 - val_loss: 5.6971 - val_accuracy: 0.3626\n",
      "Epoch 14/40\n",
      "314/314 [==============================] - 11s 34ms/step - loss: 0.0826 - accuracy: 0.9767 - val_loss: 6.8046 - val_accuracy: 0.3541\n",
      "Epoch 15/40\n",
      "314/314 [==============================] - 11s 35ms/step - loss: 0.0758 - accuracy: 0.9793 - val_loss: 5.3919 - val_accuracy: 0.2918\n",
      "Epoch 16/40\n",
      "314/314 [==============================] - 10s 32ms/step - loss: 0.0369 - accuracy: 0.9899 - val_loss: 6.3959 - val_accuracy: 0.3796\n",
      "Epoch 17/40\n",
      "314/314 [==============================] - 11s 34ms/step - loss: 0.0481 - accuracy: 0.9870 - val_loss: 6.2851 - val_accuracy: 0.3824\n",
      "Epoch 18/40\n",
      "314/314 [==============================] - 12s 38ms/step - loss: 0.0741 - accuracy: 0.9791 - val_loss: 6.1668 - val_accuracy: 0.3513\n",
      "Epoch 19/40\n",
      "314/314 [==============================] - 12s 38ms/step - loss: 0.0625 - accuracy: 0.9819 - val_loss: 6.2607 - val_accuracy: 0.3711\n",
      "Epoch 20/40\n",
      "314/314 [==============================] - 12s 38ms/step - loss: 0.0478 - accuracy: 0.9859 - val_loss: 5.4580 - val_accuracy: 0.3626\n",
      "Epoch 21/40\n",
      "314/314 [==============================] - 12s 38ms/step - loss: 0.0443 - accuracy: 0.9863 - val_loss: 6.1691 - val_accuracy: 0.3768\n",
      "Epoch 22/40\n",
      "314/314 [==============================] - 11s 36ms/step - loss: 0.0390 - accuracy: 0.9900 - val_loss: 5.4762 - val_accuracy: 0.3711\n",
      "Epoch 23/40\n",
      "314/314 [==============================] - 11s 36ms/step - loss: 0.0467 - accuracy: 0.9870 - val_loss: 6.6303 - val_accuracy: 0.3399\n",
      "Epoch 24/40\n",
      "314/314 [==============================] - 12s 37ms/step - loss: 0.0298 - accuracy: 0.9919 - val_loss: 6.3947 - val_accuracy: 0.3456\n",
      "Epoch 25/40\n",
      "314/314 [==============================] - 11s 36ms/step - loss: 0.0298 - accuracy: 0.9913 - val_loss: 6.5983 - val_accuracy: 0.3654\n",
      "Epoch 26/40\n",
      "314/314 [==============================] - 11s 34ms/step - loss: 0.0563 - accuracy: 0.9842 - val_loss: 7.0404 - val_accuracy: 0.3513\n",
      "Epoch 27/40\n",
      "314/314 [==============================] - 11s 36ms/step - loss: 0.0261 - accuracy: 0.9926 - val_loss: 7.2170 - val_accuracy: 0.3909\n",
      "Epoch 28/40\n",
      "314/314 [==============================] - 12s 38ms/step - loss: 0.0352 - accuracy: 0.9908 - val_loss: 6.0517 - val_accuracy: 0.3711\n",
      "Epoch 29/40\n",
      "314/314 [==============================] - 12s 38ms/step - loss: 0.0692 - accuracy: 0.9826 - val_loss: 5.5734 - val_accuracy: 0.3711\n",
      "Epoch 30/40\n",
      "314/314 [==============================] - 12s 38ms/step - loss: 0.0427 - accuracy: 0.9891 - val_loss: 5.9321 - val_accuracy: 0.3654\n",
      "Epoch 31/40\n",
      "314/314 [==============================] - 12s 38ms/step - loss: 0.0325 - accuracy: 0.9916 - val_loss: 7.3658 - val_accuracy: 0.3201\n",
      "Epoch 32/40\n",
      "314/314 [==============================] - 11s 36ms/step - loss: 0.0120 - accuracy: 0.9962 - val_loss: 6.2047 - val_accuracy: 0.3824\n",
      "Epoch 33/40\n",
      "314/314 [==============================] - 12s 37ms/step - loss: 0.0363 - accuracy: 0.9905 - val_loss: 5.4977 - val_accuracy: 0.3598\n",
      "Epoch 34/40\n",
      "314/314 [==============================] - 12s 38ms/step - loss: 0.0297 - accuracy: 0.9921 - val_loss: 7.0970 - val_accuracy: 0.3796\n",
      "Epoch 35/40\n",
      "314/314 [==============================] - 12s 37ms/step - loss: 0.0420 - accuracy: 0.9888 - val_loss: 6.4760 - val_accuracy: 0.3229\n",
      "Epoch 36/40\n",
      "314/314 [==============================] - 12s 38ms/step - loss: 0.0581 - accuracy: 0.9838 - val_loss: 6.8771 - val_accuracy: 0.3399\n",
      "Epoch 37/40\n",
      "314/314 [==============================] - 12s 38ms/step - loss: 0.0836 - accuracy: 0.9812 - val_loss: 5.9287 - val_accuracy: 0.3739\n",
      "Epoch 38/40\n",
      "314/314 [==============================] - 12s 38ms/step - loss: 0.0266 - accuracy: 0.9925 - val_loss: 6.8673 - val_accuracy: 0.4023\n",
      "Epoch 39/40\n",
      "314/314 [==============================] - 12s 38ms/step - loss: 0.0291 - accuracy: 0.9927 - val_loss: 5.9139 - val_accuracy: 0.4051\n",
      "Epoch 40/40\n",
      "314/314 [==============================] - 12s 37ms/step - loss: 0.0145 - accuracy: 0.9963 - val_loss: 8.3288 - val_accuracy: 0.3626\n"
     ]
    }
   ],
   "source": [
    "history = model.fit(train_ds, validation_data=test_ds, epochs=40, batch_size=64)"
   ]
  },
  {
   "cell_type": "code",
   "execution_count": 79,
   "metadata": {},
   "outputs": [],
   "source": [
    "X, y = zip(*test_ds)\n",
    "X = np.concatenate(X)\n",
    "y = np.concatenate(y)"
   ]
  },
  {
   "cell_type": "code",
   "execution_count": 90,
   "metadata": {},
   "outputs": [],
   "source": [
    "a, b = next(iter(train_ds))"
   ]
  },
  {
   "cell_type": "code",
   "execution_count": 203,
   "metadata": {},
   "outputs": [
    {
     "data": {
      "text/plain": [
       "((72, 32, 32, 3), (72, 10))"
      ]
     },
     "execution_count": 203,
     "metadata": {},
     "output_type": "execute_result"
    }
   ],
   "source": [
    "X.shape, y.shape"
   ]
  },
  {
   "cell_type": "code",
   "execution_count": 14,
   "metadata": {},
   "outputs": [
    {
     "name": "stdout",
     "output_type": "stream",
     "text": [
      "12/12 [==============================] - 0s 9ms/step\n",
      "              precision    recall  f1-score   support\n",
      "\n",
      "           0       0.00      0.00      0.00         1\n",
      "           1       0.00      0.00      0.00         1\n",
      "           2       0.00      0.00      0.00         1\n",
      "           3       0.36      0.86      0.51        50\n",
      "           4       0.83      0.38      0.52        50\n",
      "           5       0.34      0.44      0.39        50\n",
      "           6       0.29      0.20      0.24        50\n",
      "           7       0.62      0.10      0.17        50\n",
      "           8       0.31      0.10      0.15        50\n",
      "           9       0.44      0.48      0.46        50\n",
      "\n",
      "    accuracy                           0.36       353\n",
      "   macro avg       0.32      0.26      0.24       353\n",
      "weighted avg       0.45      0.36      0.34       353\n",
      "\n"
     ]
    }
   ],
   "source": [
    "X, y = zip(*test_ds)\n",
    "X = np.concatenate(X)\n",
    "y = np.concatenate(y)\n",
    "\n",
    "predictions = model.predict(X)\n",
    "report = classification_report(np.argmax(y, axis=1), np.argmax(predictions, axis=1))\n",
    "print(report)"
   ]
  }
 ],
 "metadata": {
  "kernelspec": {
   "display_name": "Python 3.9.15 ('tf')",
   "language": "python",
   "name": "python3"
  },
  "language_info": {
   "codemirror_mode": {
    "name": "ipython",
    "version": 3
   },
   "file_extension": ".py",
   "mimetype": "text/x-python",
   "name": "python",
   "nbconvert_exporter": "python",
   "pygments_lexer": "ipython3",
   "version": "3.9.15"
  },
  "orig_nbformat": 4,
  "vscode": {
   "interpreter": {
    "hash": "f14c42d44d5aca93a07ae152a604bc05c55a838d5339618e42b4c4346ef3b75c"
   }
  }
 },
 "nbformat": 4,
 "nbformat_minor": 2
}
