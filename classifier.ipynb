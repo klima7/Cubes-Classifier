{
 "cells": [
  {
   "cell_type": "code",
   "execution_count": 26,
   "metadata": {},
   "outputs": [],
   "source": [
    "import numpy as np\n",
    "from sklearn.metrics import classification_report\n",
    "import tensorflow as tf\n",
    "import tensorflow.keras.layers as layers\n",
    "from tensorflow.keras.models import Sequential\n",
    "\n",
    "import cv2 as cv"
   ]
  },
  {
   "cell_type": "code",
   "execution_count": 46,
   "metadata": {},
   "outputs": [
    {
     "name": "stdout",
     "output_type": "stream",
     "text": [
      "Found 10019 files belonging to 10 classes.\n",
      "Found 353 files belonging to 10 classes.\n"
     ]
    }
   ],
   "source": [
    "train_ds = tf.keras.utils.image_dataset_from_directory(\n",
    "  'data/dataset/',\n",
    "  label_mode='categorical',\n",
    "  shuffle=True,\n",
    "  seed=42,\n",
    "  image_size=(32, 32),\n",
    ")\n",
    "\n",
    "test_ds = tf.keras.utils.image_dataset_from_directory(\n",
    "  'data/test_dataset/',\n",
    "  label_mode='categorical',\n",
    "  shuffle=True,\n",
    "  seed=42,\n",
    "  image_size=(32, 32),\n",
    ")\n",
    "\n",
    "train_X, train_y = zip(*train_ds)\n",
    "train_X = np.concatenate(train_X)\n",
    "train_y = np.concatenate(train_y)\n",
    "\n",
    "test_X, test_y = zip(*test_ds)\n",
    "test_X = np.concatenate(test_X)\n",
    "test_y = np.concatenate(test_y)\n"
   ]
  },
  {
   "cell_type": "code",
   "execution_count": 61,
   "metadata": {},
   "outputs": [],
   "source": [
    "def cvt_to_gray(images):\n",
    "    gray_images = []\n",
    "    for rgb_image in images:\n",
    "        gray_image = cv.cvtColor(rgb_image, cv.COLOR_RGB2GRAY)\n",
    "        gray_images.append(gray_image)\n",
    "    gray_images = np.array(gray_images)\n",
    "    gray_images = gray_images[..., np.newaxis]\n",
    "    return gray_images"
   ]
  },
  {
   "cell_type": "code",
   "execution_count": 62,
   "metadata": {},
   "outputs": [],
   "source": [
    "gray_train_X = cvt_to_gray(train_X)\n",
    "gray_test_X = cvt_to_gray(test_X)"
   ]
  },
  {
   "cell_type": "code",
   "execution_count": 34,
   "metadata": {},
   "outputs": [
    {
     "data": {
      "text/plain": [
       "(10019, 32, 32, 1)"
      ]
     },
     "execution_count": 34,
     "metadata": {},
     "output_type": "execute_result"
    }
   ],
   "source": [
    "gray_train_X.shape"
   ]
  },
  {
   "cell_type": "code",
   "execution_count": 24,
   "metadata": {},
   "outputs": [
    {
     "data": {
      "text/plain": [
       "((10019, 32, 32, 3), (10019, 10))"
      ]
     },
     "execution_count": 24,
     "metadata": {},
     "output_type": "execute_result"
    }
   ],
   "source": [
    "train_X.shape, train_y.shape"
   ]
  },
  {
   "cell_type": "code",
   "execution_count": 3,
   "metadata": {},
   "outputs": [],
   "source": [
    "x, y = next(iter(train_ds))"
   ]
  },
  {
   "cell_type": "code",
   "execution_count": 64,
   "metadata": {},
   "outputs": [],
   "source": [
    "model = Sequential([\n",
    "    layers.Input(shape=(None, None, 1)),\n",
    "    layers.Resizing(32, 32),\n",
    "    layers.Rescaling(1./255),\n",
    "    layers.RandomFlip('horizontal'),\n",
    "    layers.Conv2D(32, (3, 3), activation='relu'),\n",
    "    layers.MaxPooling2D((2, 2)),\n",
    "    layers.Conv2D(64, (3, 3), activation='relu'),\n",
    "    layers.MaxPooling2D((2, 2)),\n",
    "    layers.Conv2D(128, (3, 3), activation='relu'),\n",
    "    layers.Flatten(),\n",
    "    layers.Dense(256, activation='relu'),\n",
    "    layers.Dropout(0.5),\n",
    "    layers.Dense(128, activation='relu'),\n",
    "    layers.Dropout(0.5),\n",
    "    layers.Dense(10, activation='softmax'),\n",
    "])"
   ]
  },
  {
   "cell_type": "code",
   "execution_count": 65,
   "metadata": {},
   "outputs": [
    {
     "name": "stdout",
     "output_type": "stream",
     "text": [
      "Model: \"sequential_7\"\n",
      "_________________________________________________________________\n",
      " Layer (type)                Output Shape              Param #   \n",
      "=================================================================\n",
      " resizing_7 (Resizing)       (None, 32, 32, 1)         0         \n",
      "                                                                 \n",
      " rescaling_7 (Rescaling)     (None, 32, 32, 1)         0         \n",
      "                                                                 \n",
      " random_flip_7 (RandomFlip)  (None, 32, 32, 1)         0         \n",
      "                                                                 \n",
      " conv2d_21 (Conv2D)          (None, 30, 30, 32)        320       \n",
      "                                                                 \n",
      " max_pooling2d_14 (MaxPoolin  (None, 15, 15, 32)       0         \n",
      " g2D)                                                            \n",
      "                                                                 \n",
      " conv2d_22 (Conv2D)          (None, 13, 13, 64)        18496     \n",
      "                                                                 \n",
      " max_pooling2d_15 (MaxPoolin  (None, 6, 6, 64)         0         \n",
      " g2D)                                                            \n",
      "                                                                 \n",
      " conv2d_23 (Conv2D)          (None, 4, 4, 128)         73856     \n",
      "                                                                 \n",
      " flatten_7 (Flatten)         (None, 2048)              0         \n",
      "                                                                 \n",
      " dense_21 (Dense)            (None, 256)               524544    \n",
      "                                                                 \n",
      " dropout_14 (Dropout)        (None, 256)               0         \n",
      "                                                                 \n",
      " dense_22 (Dense)            (None, 128)               32896     \n",
      "                                                                 \n",
      " dropout_15 (Dropout)        (None, 128)               0         \n",
      "                                                                 \n",
      " dense_23 (Dense)            (None, 10)                1290      \n",
      "                                                                 \n",
      "=================================================================\n",
      "Total params: 651,402\n",
      "Trainable params: 651,402\n",
      "Non-trainable params: 0\n",
      "_________________________________________________________________\n"
     ]
    }
   ],
   "source": [
    "model.summary()"
   ]
  },
  {
   "cell_type": "code",
   "execution_count": 66,
   "metadata": {},
   "outputs": [],
   "source": [
    "model.compile(optimizer='adam',\n",
    "              loss='categorical_crossentropy',\n",
    "              metrics=['accuracy'])"
   ]
  },
  {
   "cell_type": "code",
   "execution_count": 67,
   "metadata": {},
   "outputs": [
    {
     "data": {
      "text/plain": [
       "((10019, 32, 32, 1), (10019, 10))"
      ]
     },
     "execution_count": 67,
     "metadata": {},
     "output_type": "execute_result"
    }
   ],
   "source": [
    "gray_train_X.shape, train_y.shape"
   ]
  },
  {
   "cell_type": "code",
   "execution_count": 68,
   "metadata": {},
   "outputs": [
    {
     "name": "stdout",
     "output_type": "stream",
     "text": [
      "Epoch 1/40\n",
      "157/157 [==============================] - 5s 29ms/step - loss: 2.0897 - accuracy: 0.2033 - val_loss: 2.6293 - val_accuracy: 0.1955\n",
      "Epoch 2/40\n",
      "157/157 [==============================] - 5s 30ms/step - loss: 1.6198 - accuracy: 0.4111 - val_loss: 2.3192 - val_accuracy: 0.3201\n",
      "Epoch 3/40\n",
      "157/157 [==============================] - 5s 30ms/step - loss: 1.1978 - accuracy: 0.5778 - val_loss: 2.2954 - val_accuracy: 0.2946\n",
      "Epoch 4/40\n",
      "157/157 [==============================] - 5s 30ms/step - loss: 0.9686 - accuracy: 0.6588 - val_loss: 2.7615 - val_accuracy: 0.2493\n",
      "Epoch 5/40\n",
      "157/157 [==============================] - 5s 30ms/step - loss: 0.7757 - accuracy: 0.7345 - val_loss: 2.5831 - val_accuracy: 0.3258\n",
      "Epoch 6/40\n",
      "157/157 [==============================] - 5s 30ms/step - loss: 0.6434 - accuracy: 0.7797 - val_loss: 2.7856 - val_accuracy: 0.3541\n",
      "Epoch 7/40\n",
      "157/157 [==============================] - 5s 30ms/step - loss: 0.5154 - accuracy: 0.8260 - val_loss: 3.4623 - val_accuracy: 0.3484\n",
      "Epoch 8/40\n",
      "157/157 [==============================] - 5s 30ms/step - loss: 0.4476 - accuracy: 0.8524 - val_loss: 3.3497 - val_accuracy: 0.3739\n",
      "Epoch 9/40\n",
      "157/157 [==============================] - 5s 31ms/step - loss: 0.3622 - accuracy: 0.8817 - val_loss: 3.3174 - val_accuracy: 0.4051\n",
      "Epoch 10/40\n",
      "157/157 [==============================] - 5s 31ms/step - loss: 0.2938 - accuracy: 0.9062 - val_loss: 3.3865 - val_accuracy: 0.4136\n",
      "Epoch 11/40\n",
      "157/157 [==============================] - 4s 29ms/step - loss: 0.2311 - accuracy: 0.9236 - val_loss: 3.7952 - val_accuracy: 0.3626\n",
      "Epoch 12/40\n",
      "157/157 [==============================] - 5s 31ms/step - loss: 0.2004 - accuracy: 0.9342 - val_loss: 4.9202 - val_accuracy: 0.3088\n",
      "Epoch 13/40\n",
      "157/157 [==============================] - 5s 29ms/step - loss: 0.1921 - accuracy: 0.9375 - val_loss: 3.9658 - val_accuracy: 0.3711\n",
      "Epoch 14/40\n",
      "157/157 [==============================] - 5s 30ms/step - loss: 0.1553 - accuracy: 0.9495 - val_loss: 4.1707 - val_accuracy: 0.3796\n",
      "Epoch 15/40\n",
      "157/157 [==============================] - 5s 30ms/step - loss: 0.1291 - accuracy: 0.9576 - val_loss: 4.2086 - val_accuracy: 0.3796\n",
      "Epoch 16/40\n",
      "157/157 [==============================] - 5s 30ms/step - loss: 0.1291 - accuracy: 0.9596 - val_loss: 5.2524 - val_accuracy: 0.3428\n",
      "Epoch 17/40\n",
      "157/157 [==============================] - 5s 31ms/step - loss: 0.0889 - accuracy: 0.9722 - val_loss: 4.9653 - val_accuracy: 0.3683\n",
      "Epoch 18/40\n",
      "157/157 [==============================] - 5s 30ms/step - loss: 0.0954 - accuracy: 0.9696 - val_loss: 4.2644 - val_accuracy: 0.4164\n",
      "Epoch 19/40\n",
      "157/157 [==============================] - 5s 31ms/step - loss: 0.0863 - accuracy: 0.9725 - val_loss: 4.7943 - val_accuracy: 0.4051\n",
      "Epoch 20/40\n",
      "157/157 [==============================] - 5s 30ms/step - loss: 0.0961 - accuracy: 0.9707 - val_loss: 4.3693 - val_accuracy: 0.4476\n",
      "Epoch 21/40\n",
      "157/157 [==============================] - 5s 30ms/step - loss: 0.0661 - accuracy: 0.9801 - val_loss: 5.3168 - val_accuracy: 0.3966\n",
      "Epoch 22/40\n",
      "157/157 [==============================] - 5s 29ms/step - loss: 0.0849 - accuracy: 0.9744 - val_loss: 4.4925 - val_accuracy: 0.4618\n",
      "Epoch 23/40\n",
      "157/157 [==============================] - 5s 31ms/step - loss: 0.0450 - accuracy: 0.9858 - val_loss: 6.2385 - val_accuracy: 0.3484\n",
      "Epoch 24/40\n",
      "157/157 [==============================] - 5s 30ms/step - loss: 0.0560 - accuracy: 0.9810 - val_loss: 4.9728 - val_accuracy: 0.4193\n",
      "Epoch 25/40\n",
      "157/157 [==============================] - 5s 31ms/step - loss: 0.0820 - accuracy: 0.9766 - val_loss: 5.1813 - val_accuracy: 0.4391\n",
      "Epoch 26/40\n",
      "157/157 [==============================] - 5s 30ms/step - loss: 0.0462 - accuracy: 0.9851 - val_loss: 5.2560 - val_accuracy: 0.4363\n",
      "Epoch 27/40\n",
      "157/157 [==============================] - 5s 30ms/step - loss: 0.0430 - accuracy: 0.9871 - val_loss: 5.8059 - val_accuracy: 0.3994\n",
      "Epoch 28/40\n",
      "157/157 [==============================] - 5s 31ms/step - loss: 0.0611 - accuracy: 0.9826 - val_loss: 4.8353 - val_accuracy: 0.4249\n",
      "Epoch 29/40\n",
      "157/157 [==============================] - 5s 30ms/step - loss: 0.0404 - accuracy: 0.9861 - val_loss: 5.6377 - val_accuracy: 0.4306\n",
      "Epoch 30/40\n",
      "157/157 [==============================] - 5s 31ms/step - loss: 0.0467 - accuracy: 0.9852 - val_loss: 5.4855 - val_accuracy: 0.4363\n",
      "Epoch 31/40\n",
      "157/157 [==============================] - 5s 31ms/step - loss: 0.0550 - accuracy: 0.9837 - val_loss: 5.2375 - val_accuracy: 0.3768\n",
      "Epoch 32/40\n",
      "157/157 [==============================] - 5s 31ms/step - loss: 0.0420 - accuracy: 0.9863 - val_loss: 5.8575 - val_accuracy: 0.4363\n",
      "Epoch 33/40\n",
      "157/157 [==============================] - 5s 30ms/step - loss: 0.0459 - accuracy: 0.9851 - val_loss: 5.1769 - val_accuracy: 0.4363\n",
      "Epoch 34/40\n",
      "157/157 [==============================] - 5s 30ms/step - loss: 0.0456 - accuracy: 0.9852 - val_loss: 7.5084 - val_accuracy: 0.3796\n",
      "Epoch 35/40\n",
      "157/157 [==============================] - 5s 30ms/step - loss: 0.0564 - accuracy: 0.9824 - val_loss: 5.3128 - val_accuracy: 0.4193\n",
      "Epoch 36/40\n",
      "157/157 [==============================] - 5s 30ms/step - loss: 0.0319 - accuracy: 0.9903 - val_loss: 5.8679 - val_accuracy: 0.4306\n",
      "Epoch 37/40\n",
      "157/157 [==============================] - 5s 30ms/step - loss: 0.0416 - accuracy: 0.9877 - val_loss: 6.0650 - val_accuracy: 0.3938\n",
      "Epoch 38/40\n",
      "157/157 [==============================] - 5s 30ms/step - loss: 0.0395 - accuracy: 0.9894 - val_loss: 5.7139 - val_accuracy: 0.4136\n",
      "Epoch 39/40\n",
      "157/157 [==============================] - 5s 31ms/step - loss: 0.0303 - accuracy: 0.9916 - val_loss: 6.2732 - val_accuracy: 0.4306\n",
      "Epoch 40/40\n",
      "157/157 [==============================] - 5s 29ms/step - loss: 0.0451 - accuracy: 0.9873 - val_loss: 6.5890 - val_accuracy: 0.4108\n"
     ]
    }
   ],
   "source": [
    "history = model.fit(gray_train_X, train_y, validation_data=(gray_test_X, test_y), epochs=40, batch_size=64)"
   ]
  },
  {
   "cell_type": "code",
   "execution_count": 22,
   "metadata": {},
   "outputs": [],
   "source": [
    "X, y = zip(*test_ds)\n",
    "X = np.concatenate(X)\n",
    "y = np.concatenate(y)"
   ]
  },
  {
   "cell_type": "code",
   "execution_count": 203,
   "metadata": {},
   "outputs": [
    {
     "data": {
      "text/plain": [
       "((72, 32, 32, 3), (72, 10))"
      ]
     },
     "execution_count": 203,
     "metadata": {},
     "output_type": "execute_result"
    }
   ],
   "source": [
    "X.shape, y.shape"
   ]
  },
  {
   "cell_type": "code",
   "execution_count": 23,
   "metadata": {},
   "outputs": [
    {
     "name": "stdout",
     "output_type": "stream",
     "text": [
      "12/12 [==============================] - 0s 26ms/step\n",
      "              precision    recall  f1-score   support\n",
      "\n",
      "           0       0.00      0.00      0.00         1\n",
      "           1       0.00      0.00      0.00         1\n",
      "           2       0.00      0.00      0.00         1\n",
      "           3       0.55      0.66      0.60        50\n",
      "           4       0.84      0.54      0.66        50\n",
      "           5       0.35      0.74      0.47        50\n",
      "           6       0.30      0.14      0.19        50\n",
      "           7       1.00      0.04      0.08        50\n",
      "           8       0.36      0.10      0.16        50\n",
      "           9       0.36      0.60      0.45        50\n",
      "\n",
      "    accuracy                           0.40       353\n",
      "   macro avg       0.38      0.28      0.26       353\n",
      "weighted avg       0.53      0.40      0.37       353\n",
      "\n"
     ]
    }
   ],
   "source": [
    "X, y = zip(*test_ds)\n",
    "X = np.concatenate(X)\n",
    "y = np.concatenate(y)\n",
    "\n",
    "predictions = model.predict(X)\n",
    "report = classification_report(np.argmax(y, axis=1), np.argmax(predictions, axis=1))\n",
    "print(report)"
   ]
  }
 ],
 "metadata": {
  "kernelspec": {
   "display_name": "Python 3.9.15 ('tf')",
   "language": "python",
   "name": "python3"
  },
  "language_info": {
   "codemirror_mode": {
    "name": "ipython",
    "version": 3
   },
   "file_extension": ".py",
   "mimetype": "text/x-python",
   "name": "python",
   "nbconvert_exporter": "python",
   "pygments_lexer": "ipython3",
   "version": "3.9.15"
  },
  "orig_nbformat": 4,
  "vscode": {
   "interpreter": {
    "hash": "f14c42d44d5aca93a07ae152a604bc05c55a838d5339618e42b4c4346ef3b75c"
   }
  }
 },
 "nbformat": 4,
 "nbformat_minor": 2
}
