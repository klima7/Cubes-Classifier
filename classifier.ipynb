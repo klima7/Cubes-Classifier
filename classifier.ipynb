{
 "cells": [
  {
   "cell_type": "code",
   "execution_count": 1,
   "metadata": {},
   "outputs": [],
   "source": [
    "import os\n",
    "\n",
    "import numpy as np\n",
    "from sklearn.metrics import classification_report, confusion_matrix, ConfusionMatrixDisplay\n",
    "import tensorflow as tf\n",
    "import tensorflow.keras.layers as layers\n",
    "from tensorflow.keras.models import Sequential\n",
    "\n",
    "import cv2 as cv\n",
    "import matplotlib.pyplot as plt"
   ]
  },
  {
   "cell_type": "markdown",
   "metadata": {},
   "source": [
    "### Reading data"
   ]
  },
  {
   "cell_type": "code",
   "execution_count": 2,
   "metadata": {},
   "outputs": [],
   "source": [
    "def read_dataset(path, size=64):\n",
    "    ds = tf.keras.utils.image_dataset_from_directory(\n",
    "        path,\n",
    "        label_mode='categorical',\n",
    "        shuffle=True,\n",
    "        seed=42,\n",
    "        image_size=(size, size),\n",
    "    )\n",
    "    \n",
    "    X, y = zip(*ds)\n",
    "    X = np.concatenate(X)\n",
    "    y = np.concatenate(y)\n",
    "    \n",
    "    return X, y"
   ]
  },
  {
   "cell_type": "code",
   "execution_count": 3,
   "metadata": {},
   "outputs": [
    {
     "name": "stdout",
     "output_type": "stream",
     "text": [
      "Found 10019 files belonging to 10 classes.\n",
      "Found 500 files belonging to 10 classes.\n"
     ]
    }
   ],
   "source": [
    "train_X, train_y = read_dataset('data/train/')\n",
    "test_X, test_y = read_dataset('data/test/')\n",
    "labels = sorted(os.listdir('data/train'))"
   ]
  },
  {
   "cell_type": "markdown",
   "metadata": {},
   "source": [
    "### Gray"
   ]
  },
  {
   "cell_type": "code",
   "execution_count": 4,
   "metadata": {},
   "outputs": [],
   "source": [
    "def cvt_to_gray(images):\n",
    "    gray_images = []\n",
    "    for rgb_image in images:\n",
    "        gray_image = cv.cvtColor(rgb_image, cv.COLOR_RGB2GRAY)\n",
    "        gray_images.append(gray_image)\n",
    "    gray_images = np.array(gray_images)\n",
    "    gray_images = gray_images[..., np.newaxis]\n",
    "    return gray_images"
   ]
  },
  {
   "cell_type": "code",
   "execution_count": 133,
   "metadata": {},
   "outputs": [
    {
     "data": {
      "text/plain": [
       "((10019, 64, 64, 1), (353, 64, 64, 1))"
      ]
     },
     "execution_count": 133,
     "metadata": {},
     "output_type": "execute_result"
    }
   ],
   "source": [
    "gray_train_X = cvt_to_gray(train_X)\n",
    "gray_test_X = cvt_to_gray(test_X)\n",
    "gray_train_X.shape, gray_test_X.shape"
   ]
  },
  {
   "cell_type": "code",
   "execution_count": 171,
   "metadata": {},
   "outputs": [],
   "source": [
    "gray_train_X = np.abs(gray_train_X)\n",
    "gray_test_X = np.abs(gray_test_X)"
   ]
  },
  {
   "cell_type": "markdown",
   "metadata": {},
   "source": [
    "### Gradients"
   ]
  },
  {
   "cell_type": "code",
   "execution_count": 5,
   "metadata": {},
   "outputs": [],
   "source": [
    "def get_gradients(rgb_image):\n",
    "    gray_image = cv.cvtColor(rgb_image, cv.COLOR_RGB2GRAY) / 256\n",
    "    \n",
    "    sobelx = cv.Sobel(gray_image, cv.CV_64F,1,0,ksize=3)\n",
    "    sobely = cv.Sobel(gray_image, cv.CV_64F,0,1,ksize=3)\n",
    "    sobelxy = cv.Sobel(gray_image, cv.CV_64F,1,1,ksize=3)\n",
    "    # laplacian = cv.Laplacian(gray_image, cv.CV_64F)\n",
    "    \n",
    "    return [sobelx, sobely, sobelxy]"
   ]
  },
  {
   "cell_type": "code",
   "execution_count": 6,
   "metadata": {},
   "outputs": [],
   "source": [
    "def cvt_to_gradients(images):\n",
    "    grad_images = []\n",
    "    for rgb_image in images:\n",
    "        gradients = get_gradients(rgb_image)\n",
    "        grad_images.append(gradients)\n",
    "    grad_images = np.array(grad_images)\n",
    "    grad_images = np.transpose(grad_images, (0, 2, 3, 1))\n",
    "    return grad_images"
   ]
  },
  {
   "cell_type": "code",
   "execution_count": 7,
   "metadata": {},
   "outputs": [
    {
     "data": {
      "text/plain": [
       "((10019, 64, 64, 3), (500, 64, 64, 3))"
      ]
     },
     "execution_count": 7,
     "metadata": {},
     "output_type": "execute_result"
    }
   ],
   "source": [
    "grad_train_X = cvt_to_gradients(train_X)\n",
    "grad_test_X = cvt_to_gradients(test_X)\n",
    "grad_train_X.shape, grad_test_X.shape"
   ]
  },
  {
   "cell_type": "code",
   "execution_count": 8,
   "metadata": {},
   "outputs": [
    {
     "data": {
      "text/plain": [
       "(3.848439373075962, -3.870525425300002)"
      ]
     },
     "execution_count": 8,
     "metadata": {},
     "output_type": "execute_result"
    }
   ],
   "source": [
    "np.max(grad_train_X), np.min(grad_train_X)"
   ]
  },
  {
   "cell_type": "code",
   "execution_count": 140,
   "metadata": {},
   "outputs": [
    {
     "data": {
      "text/plain": [
       "<matplotlib.image.AxesImage at 0x2a9bcbe12b0>"
      ]
     },
     "execution_count": 140,
     "metadata": {},
     "output_type": "execute_result"
    },
    {
     "data": {
      "image/png": "[encoded data removed]",
      "text/plain": [
       "<Figure size 640x480 with 1 Axes>"
      ]
     },
     "metadata": {},
     "output_type": "display_data"
    }
   ],
   "source": [
    "plt.imshow(grad_train_X[402, ..., 1], 'gray')"
   ]
  },
  {
   "cell_type": "code",
   "execution_count": 9,
   "metadata": {},
   "outputs": [],
   "source": [
    "model = Sequential([\n",
    "    layers.Input(shape=(None, None, 3)),\n",
    "    layers.Resizing(64, 64),\n",
    "    # layers.RandomFlip('horizontal'),\n",
    "    layers.Conv2D(32, (3, 3), activation='relu'),\n",
    "    layers.MaxPooling2D((2, 2)),\n",
    "    layers.Conv2D(64, (3, 3), activation='relu'),\n",
    "    layers.MaxPooling2D((2, 2)),\n",
    "    layers.Conv2D(128, (3, 3), activation='relu'),\n",
    "    layers.MaxPooling2D((2, 2)),\n",
    "    layers.Conv2D(256, (3, 3), activation='relu'),\n",
    "    layers.Flatten(),\n",
    "    layers.Dense(256, activation='relu'),\n",
    "    layers.Dropout(0.5),\n",
    "    layers.Dense(128, activation='relu'),\n",
    "    layers.Dropout(0.5),\n",
    "    layers.Dense(10, activation='softmax'),\n",
    "])"
   ]
  },
  {
   "cell_type": "code",
   "execution_count": 10,
   "metadata": {},
   "outputs": [
    {
     "name": "stdout",
     "output_type": "stream",
     "text": [
      "Model: \"sequential\"\n",
      "_________________________________________________________________\n",
      " Layer (type)                Output Shape              Param #   \n",
      "=================================================================\n",
      " resizing (Resizing)         (None, 64, 64, 3)         0         \n",
      "                                                                 \n",
      " conv2d (Conv2D)             (None, 62, 62, 32)        896       \n",
      "                                                                 \n",
      " max_pooling2d (MaxPooling2D  (None, 31, 31, 32)       0         \n",
      " )                                                               \n",
      "                                                                 \n",
      " conv2d_1 (Conv2D)           (None, 29, 29, 64)        18496     \n",
      "                                                                 \n",
      " max_pooling2d_1 (MaxPooling  (None, 14, 14, 64)       0         \n",
      " 2D)                                                             \n",
      "                                                                 \n",
      " conv2d_2 (Conv2D)           (None, 12, 12, 128)       73856     \n",
      "                                                                 \n",
      " max_pooling2d_2 (MaxPooling  (None, 6, 6, 128)        0         \n",
      " 2D)                                                             \n",
      "                                                                 \n",
      " conv2d_3 (Conv2D)           (None, 4, 4, 256)         295168    \n",
      "                                                                 \n",
      " flatten (Flatten)           (None, 4096)              0         \n",
      "                                                                 \n",
      " dense (Dense)               (None, 256)               1048832   \n",
      "                                                                 \n",
      " dropout (Dropout)           (None, 256)               0         \n",
      "                                                                 \n",
      " dense_1 (Dense)             (None, 128)               32896     \n",
      "                                                                 \n",
      " dropout_1 (Dropout)         (None, 128)               0         \n",
      "                                                                 \n",
      " dense_2 (Dense)             (None, 10)                1290      \n",
      "                                                                 \n",
      "=================================================================\n",
      "Total params: 1,471,434\n",
      "Trainable params: 1,471,434\n",
      "Non-trainable params: 0\n",
      "_________________________________________________________________\n"
     ]
    }
   ],
   "source": [
    "model.summary()"
   ]
  },
  {
   "cell_type": "code",
   "execution_count": 11,
   "metadata": {},
   "outputs": [],
   "source": [
    "model.compile(optimizer='adam',\n",
    "              loss='categorical_crossentropy',\n",
    "              metrics=['accuracy'])"
   ]
  },
  {
   "cell_type": "code",
   "execution_count": 12,
   "metadata": {},
   "outputs": [
    {
     "name": "stdout",
     "output_type": "stream",
     "text": [
      "Epoch 1/40\n",
      "157/157 [==============================] - 7s 13ms/step - loss: 1.9638 - accuracy: 0.2620 - val_loss: 2.0688 - val_accuracy: 0.3220\n",
      "Epoch 2/40\n",
      "157/157 [==============================] - 2s 10ms/step - loss: 0.9649 - accuracy: 0.6627 - val_loss: 3.0420 - val_accuracy: 0.3940\n",
      "Epoch 3/40\n",
      "157/157 [==============================] - 2s 10ms/step - loss: 0.5161 - accuracy: 0.8267 - val_loss: 3.2168 - val_accuracy: 0.4620\n",
      "Epoch 4/40\n",
      "157/157 [==============================] - 2s 10ms/step - loss: 0.2815 - accuracy: 0.9075 - val_loss: 4.5929 - val_accuracy: 0.4840\n",
      "Epoch 5/40\n",
      "157/157 [==============================] - 2s 10ms/step - loss: 0.1817 - accuracy: 0.9403 - val_loss: 4.0145 - val_accuracy: 0.5280\n",
      "Epoch 6/40\n",
      "157/157 [==============================] - 2s 10ms/step - loss: 0.1101 - accuracy: 0.9680 - val_loss: 5.6620 - val_accuracy: 0.5360\n",
      "Epoch 7/40\n",
      "157/157 [==============================] - 2s 10ms/step - loss: 0.0786 - accuracy: 0.9769 - val_loss: 5.4683 - val_accuracy: 0.6000\n",
      "Epoch 8/40\n",
      "157/157 [==============================] - 2s 10ms/step - loss: 0.0686 - accuracy: 0.9804 - val_loss: 4.9485 - val_accuracy: 0.5520\n",
      "Epoch 9/40\n",
      "157/157 [==============================] - 2s 10ms/step - loss: 0.0627 - accuracy: 0.9821 - val_loss: 4.7891 - val_accuracy: 0.5480\n",
      "Epoch 10/40\n",
      "157/157 [==============================] - 2s 10ms/step - loss: 0.0427 - accuracy: 0.9875 - val_loss: 5.8020 - val_accuracy: 0.5720\n",
      "Epoch 11/40\n",
      "157/157 [==============================] - 2s 10ms/step - loss: 0.0477 - accuracy: 0.9869 - val_loss: 5.5976 - val_accuracy: 0.5780\n",
      "Epoch 12/40\n",
      "157/157 [==============================] - 2s 10ms/step - loss: 0.0397 - accuracy: 0.9887 - val_loss: 6.0663 - val_accuracy: 0.5880\n",
      "Epoch 13/40\n",
      "157/157 [==============================] - 2s 10ms/step - loss: 0.0653 - accuracy: 0.9817 - val_loss: 4.6288 - val_accuracy: 0.5700\n",
      "Epoch 14/40\n",
      "157/157 [==============================] - 2s 10ms/step - loss: 0.0281 - accuracy: 0.9918 - val_loss: 5.5823 - val_accuracy: 0.5720\n",
      "Epoch 15/40\n",
      "157/157 [==============================] - 2s 10ms/step - loss: 0.0412 - accuracy: 0.9897 - val_loss: 7.6041 - val_accuracy: 0.5740\n",
      "Epoch 16/40\n",
      "157/157 [==============================] - 2s 10ms/step - loss: 0.0299 - accuracy: 0.9913 - val_loss: 5.3401 - val_accuracy: 0.5620\n",
      "Epoch 17/40\n",
      "157/157 [==============================] - 2s 10ms/step - loss: 0.0352 - accuracy: 0.9898 - val_loss: 5.3738 - val_accuracy: 0.5740\n",
      "Epoch 18/40\n",
      "157/157 [==============================] - 2s 10ms/step - loss: 0.0314 - accuracy: 0.9922 - val_loss: 7.3270 - val_accuracy: 0.5580\n",
      "Epoch 19/40\n",
      "157/157 [==============================] - 2s 10ms/step - loss: 0.0305 - accuracy: 0.9926 - val_loss: 6.4426 - val_accuracy: 0.5960\n",
      "Epoch 20/40\n",
      "157/157 [==============================] - 2s 10ms/step - loss: 0.0130 - accuracy: 0.9968 - val_loss: 7.0662 - val_accuracy: 0.5780\n",
      "Epoch 21/40\n",
      "157/157 [==============================] - 2s 10ms/step - loss: 0.0409 - accuracy: 0.9889 - val_loss: 8.7241 - val_accuracy: 0.5540\n",
      "Epoch 22/40\n",
      "157/157 [==============================] - 2s 10ms/step - loss: 0.0520 - accuracy: 0.9865 - val_loss: 4.9067 - val_accuracy: 0.5900\n",
      "Epoch 23/40\n",
      "157/157 [==============================] - 2s 10ms/step - loss: 0.0178 - accuracy: 0.9955 - val_loss: 8.6581 - val_accuracy: 0.5640\n",
      "Epoch 24/40\n",
      "157/157 [==============================] - 2s 10ms/step - loss: 0.0340 - accuracy: 0.9914 - val_loss: 6.5064 - val_accuracy: 0.5980\n",
      "Epoch 25/40\n",
      "157/157 [==============================] - 2s 10ms/step - loss: 0.0215 - accuracy: 0.9947 - val_loss: 6.3420 - val_accuracy: 0.5900\n",
      "Epoch 26/40\n",
      "157/157 [==============================] - 2s 10ms/step - loss: 0.0080 - accuracy: 0.9976 - val_loss: 7.1389 - val_accuracy: 0.5940\n",
      "Epoch 27/40\n",
      "157/157 [==============================] - 2s 10ms/step - loss: 0.0102 - accuracy: 0.9979 - val_loss: 8.3736 - val_accuracy: 0.5780\n",
      "Epoch 28/40\n",
      "157/157 [==============================] - 2s 10ms/step - loss: 0.0726 - accuracy: 0.9847 - val_loss: 5.3099 - val_accuracy: 0.5920\n",
      "Epoch 29/40\n",
      "157/157 [==============================] - 2s 10ms/step - loss: 0.0108 - accuracy: 0.9976 - val_loss: 6.3200 - val_accuracy: 0.6020\n",
      "Epoch 30/40\n",
      "157/157 [==============================] - 2s 10ms/step - loss: 0.0078 - accuracy: 0.9980 - val_loss: 7.6914 - val_accuracy: 0.6120\n",
      "Epoch 31/40\n",
      "157/157 [==============================] - 2s 10ms/step - loss: 0.0081 - accuracy: 0.9984 - val_loss: 8.6442 - val_accuracy: 0.5600\n",
      "Epoch 32/40\n",
      "157/157 [==============================] - 2s 10ms/step - loss: 0.0362 - accuracy: 0.9907 - val_loss: 7.5329 - val_accuracy: 0.5940\n",
      "Epoch 33/40\n",
      "157/157 [==============================] - 2s 10ms/step - loss: 0.0105 - accuracy: 0.9969 - val_loss: 6.1855 - val_accuracy: 0.6040\n",
      "Epoch 34/40\n",
      "157/157 [==============================] - 2s 10ms/step - loss: 0.0465 - accuracy: 0.9892 - val_loss: 8.5026 - val_accuracy: 0.5460\n",
      "Epoch 35/40\n",
      "157/157 [==============================] - 2s 10ms/step - loss: 0.0282 - accuracy: 0.9925 - val_loss: 7.7449 - val_accuracy: 0.6040\n",
      "Epoch 36/40\n",
      "157/157 [==============================] - 2s 10ms/step - loss: 0.0097 - accuracy: 0.9971 - val_loss: 6.9205 - val_accuracy: 0.6000\n",
      "Epoch 37/40\n",
      "157/157 [==============================] - 2s 10ms/step - loss: 0.0078 - accuracy: 0.9979 - val_loss: 7.2484 - val_accuracy: 0.6380\n",
      "Epoch 38/40\n",
      "157/157 [==============================] - 2s 11ms/step - loss: 0.0272 - accuracy: 0.9941 - val_loss: 7.3946 - val_accuracy: 0.5920\n",
      "Epoch 39/40\n",
      "157/157 [==============================] - 2s 10ms/step - loss: 0.0241 - accuracy: 0.9944 - val_loss: 10.4799 - val_accuracy: 0.5840\n",
      "Epoch 40/40\n",
      "157/157 [==============================] - 2s 10ms/step - loss: 0.0237 - accuracy: 0.9947 - val_loss: 6.4941 - val_accuracy: 0.5780\n"
     ]
    }
   ],
   "source": [
    "history = model.fit(grad_train_X, train_y, validation_data=(grad_test_X, test_y), epochs=40, batch_size=64)"
   ]
  },
  {
   "cell_type": "code",
   "execution_count": 13,
   "metadata": {},
   "outputs": [
    {
     "name": "stdout",
     "output_type": "stream",
     "text": [
      "16/16 [==============================] - 0s 7ms/step\n",
      "              precision    recall  f1-score   support\n",
      "\n",
      "           0       0.47      0.34      0.40        50\n",
      "           1       0.78      0.28      0.41        50\n",
      "           2       0.43      0.80      0.56        50\n",
      "           3       0.43      0.74      0.54        50\n",
      "           4       0.52      0.48      0.50        50\n",
      "           5       0.75      0.96      0.84        50\n",
      "           6       0.65      0.72      0.69        50\n",
      "           7       1.00      0.44      0.61        50\n",
      "           8       0.56      0.44      0.49        50\n",
      "           9       0.74      0.58      0.65        50\n",
      "\n",
      "    accuracy                           0.58       500\n",
      "   macro avg       0.63      0.58      0.57       500\n",
      "weighted avg       0.63      0.58      0.57       500\n",
      "\n"
     ]
    },
    {
     "data": {
      "image/png": "[encoded data removed]",
      "text/plain": [
       "<Figure size 640x480 with 2 Axes>"
      ]
     },
     "metadata": {},
     "output_type": "display_data"
    }
   ],
   "source": [
    "predictions = model.predict(grad_test_X)\n",
    "true_classes = np.argmax(test_y, axis=1)\n",
    "predicted_classes = np.argmax(predictions, axis=1)\n",
    "\n",
    "report = classification_report(true_classes, predicted_classes)\n",
    "cm = confusion_matrix(true_classes, predicted_classes)\n",
    "\n",
    "print(report)\n",
    "ConfusionMatrixDisplay.from_predictions(\n",
    "    true_classes, \n",
    "    predicted_classes, \n",
    "    display_labels=labels, \n",
    "    xticks_rotation='vertical',\n",
    ");"
   ]
  }
 ],
 "metadata": {
  "kernelspec": {
   "display_name": "Python 3.9.15 ('tf')",
   "language": "python",
   "name": "python3"
  },
  "language_info": {
   "codemirror_mode": {
    "name": "ipython",
    "version": 3
   },
   "file_extension": ".py",
   "mimetype": "text/x-python",
   "name": "python",
   "nbconvert_exporter": "python",
   "pygments_lexer": "ipython3",
   "version": "3.9.15"
  },
  "orig_nbformat": 4,
  "vscode": {
   "interpreter": {
    "hash": "f14c42d44d5aca93a07ae152a604bc05c55a838d5339618e42b4c4346ef3b75c"
   }
  }
 },
 "nbformat": 4,
 "nbformat_minor": 2
}
