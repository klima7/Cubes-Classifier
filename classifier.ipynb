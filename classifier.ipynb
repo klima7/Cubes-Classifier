{
 "cells": [
  {
   "cell_type": "code",
   "execution_count": 58,
   "metadata": {},
   "outputs": [],
   "source": [
    "import numpy as np\n",
    "from sklearn.metrics import classification_report\n",
    "import tensorflow as tf\n",
    "import tensorflow.keras.layers as layers\n",
    "from tensorflow.keras.models import Sequential\n",
    "\n",
    "import cv2 as cv\n",
    "import matplotlib.pyplot as plt"
   ]
  },
  {
   "cell_type": "markdown",
   "metadata": {},
   "source": [
    "### Reading data"
   ]
  },
  {
   "cell_type": "code",
   "execution_count": 70,
   "metadata": {},
   "outputs": [
    {
     "name": "stdout",
     "output_type": "stream",
     "text": [
      "Found 10019 files belonging to 10 classes.\n",
      "Found 353 files belonging to 10 classes.\n"
     ]
    }
   ],
   "source": [
    "train_ds = tf.keras.utils.image_dataset_from_directory(\n",
    "  'data/dataset/',\n",
    "  label_mode='categorical',\n",
    "  shuffle=True,\n",
    "  seed=42,\n",
    "  image_size=(64, 64),\n",
    ")\n",
    "\n",
    "test_ds = tf.keras.utils.image_dataset_from_directory(\n",
    "  'data/test_dataset/',\n",
    "  label_mode='categorical',\n",
    "  shuffle=True,\n",
    "  seed=42,\n",
    "  image_size=(64, 64),\n",
    ")\n",
    "\n",
    "train_X, train_y = zip(*train_ds)\n",
    "train_X = np.concatenate(train_X)\n",
    "train_y = np.concatenate(train_y)\n",
    "\n",
    "test_X, test_y = zip(*test_ds)\n",
    "test_X = np.concatenate(test_X)\n",
    "test_y = np.concatenate(test_y)\n"
   ]
  },
  {
   "cell_type": "markdown",
   "metadata": {},
   "source": [
    "### Gray"
   ]
  },
  {
   "cell_type": "code",
   "execution_count": 71,
   "metadata": {},
   "outputs": [],
   "source": [
    "def cvt_to_gray(images):\n",
    "    gray_images = []\n",
    "    for rgb_image in images:\n",
    "        gray_image = cv.cvtColor(rgb_image, cv.COLOR_RGB2GRAY)\n",
    "        gray_images.append(gray_image)\n",
    "    gray_images = np.array(gray_images)\n",
    "    gray_images = gray_images[..., np.newaxis]\n",
    "    return gray_images"
   ]
  },
  {
   "cell_type": "code",
   "execution_count": 72,
   "metadata": {},
   "outputs": [
    {
     "data": {
      "text/plain": [
       "((10019, 64, 64, 1), (353, 64, 64, 1))"
      ]
     },
     "execution_count": 72,
     "metadata": {},
     "output_type": "execute_result"
    }
   ],
   "source": [
    "gray_train_X = cvt_to_gray(train_X)\n",
    "gray_test_X = cvt_to_gray(test_X)\n",
    "gray_train_X.shape, gray_test_X.shape"
   ]
  },
  {
   "cell_type": "markdown",
   "metadata": {},
   "source": [
    "### Gradients"
   ]
  },
  {
   "cell_type": "code",
   "execution_count": 73,
   "metadata": {},
   "outputs": [],
   "source": [
    "def get_gradients(rgb_image):\n",
    "    gray_image = cv.cvtColor(rgb_image, cv.COLOR_RGB2GRAY) / 256\n",
    "    \n",
    "    sobelx = cv.Sobel(gray_image, cv.CV_64F,1,0,ksize=3)\n",
    "    sobely = cv.Sobel(gray_image, cv.CV_64F,0,1,ksize=3)\n",
    "    sobelxy = cv.Sobel(gray_image, cv.CV_64F,1,1,ksize=3)\n",
    "    # laplacian = cv.Laplacian(gray_image, cv.CV_64F)\n",
    "    \n",
    "    return [sobelx, sobely, sobelxy]"
   ]
  },
  {
   "cell_type": "code",
   "execution_count": 74,
   "metadata": {},
   "outputs": [],
   "source": [
    "def cvt_to_gradients(images):\n",
    "    grad_images = []\n",
    "    for rgb_image in images:\n",
    "        gradients = get_gradients(rgb_image)\n",
    "        grad_images.append(gradients)\n",
    "    grad_images = np.array(grad_images)\n",
    "    grad_images = np.transpose(grad_images, (0, 2, 3, 1))\n",
    "    return grad_images"
   ]
  },
  {
   "cell_type": "code",
   "execution_count": 75,
   "metadata": {},
   "outputs": [
    {
     "data": {
      "text/plain": [
       "((10019, 64, 64, 3), (353, 64, 64, 3))"
      ]
     },
     "execution_count": 75,
     "metadata": {},
     "output_type": "execute_result"
    }
   ],
   "source": [
    "grad_train_X = cvt_to_gradients(train_X)\n",
    "grad_test_X = cvt_to_gradients(test_X)\n",
    "grad_train_X.shape, grad_test_X.shape"
   ]
  },
  {
   "cell_type": "code",
   "execution_count": 76,
   "metadata": {},
   "outputs": [
    {
     "data": {
      "text/plain": [
       "(3.8386153373867273, -3.8688769042491913)"
      ]
     },
     "execution_count": 76,
     "metadata": {},
     "output_type": "execute_result"
    }
   ],
   "source": [
    "np.max(grad_train_X), np.min(grad_train_X)"
   ]
  },
  {
   "cell_type": "code",
   "execution_count": 83,
   "metadata": {},
   "outputs": [
    {
     "data": {
      "text/plain": [
       "<matplotlib.image.AxesImage at 0x2a72d296d00>"
      ]
     },
     "execution_count": 83,
     "metadata": {},
     "output_type": "execute_result"
    },
    {
     "data": {
      "image/png": "[encoded data removed]",
      "text/plain": [
       "<Figure size 640x480 with 1 Axes>"
      ]
     },
     "metadata": {},
     "output_type": "display_data"
    }
   ],
   "source": [
    "plt.imshow(grad_train_X[401, ..., 1], 'gray')"
   ]
  },
  {
   "cell_type": "code",
   "execution_count": 89,
   "metadata": {},
   "outputs": [],
   "source": [
    "model = Sequential([\n",
    "    layers.Input(shape=(None, None, 3)),\n",
    "    layers.Resizing(64, 64),\n",
    "    # layers.RandomFlip('horizontal'),\n",
    "    layers.Conv2D(32, (3, 3), activation='relu'),\n",
    "    layers.MaxPooling2D((2, 2)),\n",
    "    layers.Conv2D(64, (3, 3), activation='relu'),\n",
    "    layers.MaxPooling2D((2, 2)),\n",
    "    layers.Conv2D(128, (3, 3), activation='relu'),\n",
    "    layers.MaxPooling2D((2, 2)),\n",
    "    layers.Conv2D(256, (3, 3), activation='relu'),\n",
    "    layers.Flatten(),\n",
    "    layers.Dense(256, activation='relu'),\n",
    "    layers.Dropout(0.5),\n",
    "    layers.Dense(128, activation='relu'),\n",
    "    layers.Dropout(0.5),\n",
    "    layers.Dense(10, activation='softmax'),\n",
    "])"
   ]
  },
  {
   "cell_type": "code",
   "execution_count": 91,
   "metadata": {},
   "outputs": [
    {
     "name": "stdout",
     "output_type": "stream",
     "text": [
      "Model: \"sequential_9\"\n",
      "_________________________________________________________________\n",
      " Layer (type)                Output Shape              Param #   \n",
      "=================================================================\n",
      " resizing_9 (Resizing)       (None, 64, 64, 3)         0         \n",
      "                                                                 \n",
      " conv2d_27 (Conv2D)          (None, 62, 62, 32)        896       \n",
      "                                                                 \n",
      " max_pooling2d_18 (MaxPoolin  (None, 31, 31, 32)       0         \n",
      " g2D)                                                            \n",
      "                                                                 \n",
      " conv2d_28 (Conv2D)          (None, 29, 29, 64)        18496     \n",
      "                                                                 \n",
      " max_pooling2d_19 (MaxPoolin  (None, 14, 14, 64)       0         \n",
      " g2D)                                                            \n",
      "                                                                 \n",
      " conv2d_29 (Conv2D)          (None, 12, 12, 128)       73856     \n",
      "                                                                 \n",
      " max_pooling2d_20 (MaxPoolin  (None, 6, 6, 128)        0         \n",
      " g2D)                                                            \n",
      "                                                                 \n",
      " conv2d_30 (Conv2D)          (None, 4, 4, 256)         295168    \n",
      "                                                                 \n",
      " flatten_9 (Flatten)         (None, 4096)              0         \n",
      "                                                                 \n",
      " dense_27 (Dense)            (None, 256)               1048832   \n",
      "                                                                 \n",
      " dropout_19 (Dropout)        (None, 256)               0         \n",
      "                                                                 \n",
      " dense_28 (Dense)            (None, 128)               32896     \n",
      "                                                                 \n",
      " dropout_20 (Dropout)        (None, 128)               0         \n",
      "                                                                 \n",
      " dense_29 (Dense)            (None, 10)                1290      \n",
      "                                                                 \n",
      "=================================================================\n",
      "Total params: 1,471,434\n",
      "Trainable params: 1,471,434\n",
      "Non-trainable params: 0\n",
      "_________________________________________________________________\n"
     ]
    }
   ],
   "source": [
    "model.summary()"
   ]
  },
  {
   "cell_type": "code",
   "execution_count": 92,
   "metadata": {},
   "outputs": [],
   "source": [
    "model.compile(optimizer='adam',\n",
    "              loss='categorical_crossentropy',\n",
    "              metrics=['accuracy'])"
   ]
  },
  {
   "cell_type": "code",
   "execution_count": 93,
   "metadata": {},
   "outputs": [
    {
     "name": "stdout",
     "output_type": "stream",
     "text": [
      "Epoch 1/40\n",
      "79/79 [==============================] - 2s 19ms/step - loss: 2.1013 - accuracy: 0.2079 - val_loss: 2.1697 - val_accuracy: 0.2720\n",
      "Epoch 2/40\n",
      "79/79 [==============================] - 1s 16ms/step - loss: 1.3201 - accuracy: 0.5326 - val_loss: 2.5748 - val_accuracy: 0.2606\n",
      "Epoch 3/40\n",
      "79/79 [==============================] - 1s 16ms/step - loss: 0.8752 - accuracy: 0.6950 - val_loss: 2.1528 - val_accuracy: 0.3739\n",
      "Epoch 4/40\n",
      "79/79 [==============================] - 1s 16ms/step - loss: 0.6312 - accuracy: 0.7854 - val_loss: 2.4738 - val_accuracy: 0.3683\n",
      "Epoch 5/40\n",
      "79/79 [==============================] - 1s 16ms/step - loss: 0.4187 - accuracy: 0.8598 - val_loss: 2.4995 - val_accuracy: 0.4476\n",
      "Epoch 6/40\n",
      "79/79 [==============================] - 1s 16ms/step - loss: 0.2787 - accuracy: 0.9113 - val_loss: 1.9834 - val_accuracy: 0.5609\n",
      "Epoch 7/40\n",
      "79/79 [==============================] - 1s 16ms/step - loss: 0.1890 - accuracy: 0.9414 - val_loss: 2.4344 - val_accuracy: 0.5326\n",
      "Epoch 8/40\n",
      "79/79 [==============================] - 1s 16ms/step - loss: 0.1360 - accuracy: 0.9577 - val_loss: 3.0181 - val_accuracy: 0.5212\n",
      "Epoch 9/40\n",
      "79/79 [==============================] - 1s 16ms/step - loss: 0.1021 - accuracy: 0.9702 - val_loss: 3.0079 - val_accuracy: 0.5496\n",
      "Epoch 10/40\n",
      "79/79 [==============================] - 1s 16ms/step - loss: 0.0709 - accuracy: 0.9783 - val_loss: 3.2165 - val_accuracy: 0.5637\n",
      "Epoch 11/40\n",
      "79/79 [==============================] - 1s 16ms/step - loss: 0.0614 - accuracy: 0.9833 - val_loss: 2.8367 - val_accuracy: 0.6062\n",
      "Epoch 12/40\n",
      "79/79 [==============================] - 1s 16ms/step - loss: 0.0635 - accuracy: 0.9818 - val_loss: 3.3837 - val_accuracy: 0.5666\n",
      "Epoch 13/40\n",
      "79/79 [==============================] - 1s 16ms/step - loss: 0.0412 - accuracy: 0.9885 - val_loss: 4.4701 - val_accuracy: 0.4533\n",
      "Epoch 14/40\n",
      "79/79 [==============================] - 1s 16ms/step - loss: 0.0448 - accuracy: 0.9871 - val_loss: 3.5424 - val_accuracy: 0.5581\n",
      "Epoch 15/40\n",
      "79/79 [==============================] - 1s 16ms/step - loss: 0.0290 - accuracy: 0.9907 - val_loss: 3.8742 - val_accuracy: 0.5411\n",
      "Epoch 16/40\n",
      "79/79 [==============================] - 1s 16ms/step - loss: 0.0203 - accuracy: 0.9935 - val_loss: 4.0512 - val_accuracy: 0.5581\n",
      "Epoch 17/40\n",
      "79/79 [==============================] - 1s 16ms/step - loss: 0.0176 - accuracy: 0.9960 - val_loss: 3.5926 - val_accuracy: 0.6346\n",
      "Epoch 18/40\n",
      "79/79 [==============================] - 1s 16ms/step - loss: 0.0240 - accuracy: 0.9928 - val_loss: 5.0457 - val_accuracy: 0.5014\n",
      "Epoch 19/40\n",
      "79/79 [==============================] - 1s 16ms/step - loss: 0.0506 - accuracy: 0.9858 - val_loss: 2.8653 - val_accuracy: 0.5977\n",
      "Epoch 20/40\n",
      "79/79 [==============================] - 1s 16ms/step - loss: 0.0362 - accuracy: 0.9897 - val_loss: 3.8658 - val_accuracy: 0.5836\n",
      "Epoch 21/40\n",
      "79/79 [==============================] - 1s 16ms/step - loss: 0.0239 - accuracy: 0.9925 - val_loss: 3.7102 - val_accuracy: 0.6317\n",
      "Epoch 22/40\n",
      "79/79 [==============================] - 1s 16ms/step - loss: 0.0259 - accuracy: 0.9926 - val_loss: 3.8340 - val_accuracy: 0.5751\n",
      "Epoch 23/40\n",
      "79/79 [==============================] - 1s 16ms/step - loss: 0.0196 - accuracy: 0.9953 - val_loss: 4.1202 - val_accuracy: 0.5949\n",
      "Epoch 24/40\n",
      "79/79 [==============================] - 1s 16ms/step - loss: 0.0261 - accuracy: 0.9936 - val_loss: 3.3997 - val_accuracy: 0.6204\n",
      "Epoch 25/40\n",
      "79/79 [==============================] - 1s 16ms/step - loss: 0.0193 - accuracy: 0.9953 - val_loss: 5.0334 - val_accuracy: 0.5382\n",
      "Epoch 26/40\n",
      "79/79 [==============================] - 1s 16ms/step - loss: 0.0461 - accuracy: 0.9864 - val_loss: 4.2369 - val_accuracy: 0.5836\n",
      "Epoch 27/40\n",
      "79/79 [==============================] - 1s 16ms/step - loss: 0.0155 - accuracy: 0.9956 - val_loss: 4.1394 - val_accuracy: 0.5807\n",
      "Epoch 28/40\n",
      "79/79 [==============================] - 1s 16ms/step - loss: 0.0183 - accuracy: 0.9953 - val_loss: 4.2375 - val_accuracy: 0.5637\n",
      "Epoch 29/40\n",
      "79/79 [==============================] - 1s 16ms/step - loss: 0.0239 - accuracy: 0.9935 - val_loss: 3.9051 - val_accuracy: 0.5836\n",
      "Epoch 30/40\n",
      "79/79 [==============================] - 1s 16ms/step - loss: 0.0088 - accuracy: 0.9979 - val_loss: 4.0427 - val_accuracy: 0.5921\n",
      "Epoch 31/40\n",
      "79/79 [==============================] - 1s 16ms/step - loss: 0.0156 - accuracy: 0.9967 - val_loss: 5.2514 - val_accuracy: 0.5042\n",
      "Epoch 32/40\n",
      "79/79 [==============================] - 1s 16ms/step - loss: 0.0306 - accuracy: 0.9926 - val_loss: 4.0572 - val_accuracy: 0.5722\n",
      "Epoch 33/40\n",
      "79/79 [==============================] - 1s 16ms/step - loss: 0.0154 - accuracy: 0.9948 - val_loss: 3.8689 - val_accuracy: 0.6062\n",
      "Epoch 34/40\n",
      "79/79 [==============================] - 1s 16ms/step - loss: 0.0345 - accuracy: 0.9902 - val_loss: 3.7130 - val_accuracy: 0.6062\n",
      "Epoch 35/40\n",
      "79/79 [==============================] - 1s 16ms/step - loss: 0.0156 - accuracy: 0.9954 - val_loss: 4.5546 - val_accuracy: 0.5864\n",
      "Epoch 36/40\n",
      "79/79 [==============================] - 1s 16ms/step - loss: 0.0171 - accuracy: 0.9955 - val_loss: 4.0074 - val_accuracy: 0.5977\n",
      "Epoch 37/40\n",
      "79/79 [==============================] - 1s 16ms/step - loss: 0.0092 - accuracy: 0.9978 - val_loss: 4.3518 - val_accuracy: 0.5921\n",
      "Epoch 38/40\n",
      "79/79 [==============================] - 1s 16ms/step - loss: 0.0140 - accuracy: 0.9972 - val_loss: 4.0742 - val_accuracy: 0.6204\n",
      "Epoch 39/40\n",
      "79/79 [==============================] - 1s 16ms/step - loss: 0.0747 - accuracy: 0.9822 - val_loss: 3.3122 - val_accuracy: 0.6119\n",
      "Epoch 40/40\n",
      "79/79 [==============================] - 1s 16ms/step - loss: 0.0086 - accuracy: 0.9979 - val_loss: 4.0441 - val_accuracy: 0.5751\n"
     ]
    }
   ],
   "source": [
    "history = model.fit(grad_train_X, train_y, validation_data=(grad_test_X, test_y), epochs=40, batch_size=128)"
   ]
  },
  {
   "cell_type": "code",
   "execution_count": 22,
   "metadata": {},
   "outputs": [],
   "source": [
    "X, y = zip(*test_ds)\n",
    "X = np.concatenate(X)\n",
    "y = np.concatenate(y)"
   ]
  },
  {
   "cell_type": "code",
   "execution_count": 203,
   "metadata": {},
   "outputs": [
    {
     "data": {
      "text/plain": [
       "((72, 32, 32, 3), (72, 10))"
      ]
     },
     "execution_count": 203,
     "metadata": {},
     "output_type": "execute_result"
    }
   ],
   "source": [
    "X.shape, y.shape"
   ]
  },
  {
   "cell_type": "code",
   "execution_count": 69,
   "metadata": {},
   "outputs": [
    {
     "name": "stdout",
     "output_type": "stream",
     "text": [
      "WARNING:tensorflow:Model was constructed with shape (None, None, None, 1) for input KerasTensor(type_spec=TensorSpec(shape=(None, None, None, 1), dtype=tf.float32, name='input_8'), name='input_8', description=\"created by layer 'input_8'\"), but it was called on an input with incompatible shape (None, 32, 32, 3).\n"
     ]
    },
    {
     "ename": "ValueError",
     "evalue": "in user code:\n\n    File \"c:\\Users\\Lukasz\\anaconda3\\envs\\tf\\lib\\site-packages\\keras\\engine\\training.py\", line 2041, in predict_function  *\n        return step_function(self, iterator)\n    File \"c:\\Users\\Lukasz\\anaconda3\\envs\\tf\\lib\\site-packages\\keras\\engine\\training.py\", line 2027, in step_function  **\n        outputs = model.distribute_strategy.run(run_step, args=(data,))\n    File \"c:\\Users\\Lukasz\\anaconda3\\envs\\tf\\lib\\site-packages\\keras\\engine\\training.py\", line 2015, in run_step  **\n        outputs = model.predict_step(data)\n    File \"c:\\Users\\Lukasz\\anaconda3\\envs\\tf\\lib\\site-packages\\keras\\engine\\training.py\", line 1983, in predict_step\n        return self(x, training=False)\n    File \"c:\\Users\\Lukasz\\anaconda3\\envs\\tf\\lib\\site-packages\\keras\\utils\\traceback_utils.py\", line 70, in error_handler\n        raise e.with_traceback(filtered_tb) from None\n    File \"c:\\Users\\Lukasz\\anaconda3\\envs\\tf\\lib\\site-packages\\keras\\engine\\input_spec.py\", line 277, in assert_input_compatibility\n        raise ValueError(\n\n    ValueError: Exception encountered when calling layer \"sequential_7\" \"                 f\"(type Sequential).\n    \n    Input 0 of layer \"conv2d_21\" is incompatible with the layer: expected axis -1 of input shape to have value 1, but received input with shape (None, 32, 32, 3)\n    \n    Call arguments received by layer \"sequential_7\" \"                 f\"(type Sequential):\n      • inputs=tf.Tensor(shape=(None, 32, 32, 3), dtype=float32)\n      • training=False\n      • mask=None\n",
     "output_type": "error",
     "traceback": [
      "\u001b[1;31m---------------------------------------------------------------------------\u001b[0m",
      "\u001b[1;31mValueError\u001b[0m                                Traceback (most recent call last)",
      "Cell \u001b[1;32mIn [69], line 5\u001b[0m\n\u001b[0;32m      2\u001b[0m X \u001b[39m=\u001b[39m np\u001b[39m.\u001b[39mconcatenate(X)\n\u001b[0;32m      3\u001b[0m y \u001b[39m=\u001b[39m np\u001b[39m.\u001b[39mconcatenate(y)\n\u001b[1;32m----> 5\u001b[0m predictions \u001b[39m=\u001b[39m model\u001b[39m.\u001b[39;49mpredict(X)\n\u001b[0;32m      6\u001b[0m report \u001b[39m=\u001b[39m classification_report(np\u001b[39m.\u001b[39margmax(y, axis\u001b[39m=\u001b[39m\u001b[39m1\u001b[39m), np\u001b[39m.\u001b[39margmax(predictions, axis\u001b[39m=\u001b[39m\u001b[39m1\u001b[39m))\n\u001b[0;32m      7\u001b[0m \u001b[39mprint\u001b[39m(report)\n",
      "File \u001b[1;32mc:\\Users\\Lukasz\\anaconda3\\envs\\tf\\lib\\site-packages\\keras\\utils\\traceback_utils.py:70\u001b[0m, in \u001b[0;36mfilter_traceback.<locals>.error_handler\u001b[1;34m(*args, **kwargs)\u001b[0m\n\u001b[0;32m     67\u001b[0m     filtered_tb \u001b[39m=\u001b[39m _process_traceback_frames(e\u001b[39m.\u001b[39m__traceback__)\n\u001b[0;32m     68\u001b[0m     \u001b[39m# To get the full stack trace, call:\u001b[39;00m\n\u001b[0;32m     69\u001b[0m     \u001b[39m# `tf.debugging.disable_traceback_filtering()`\u001b[39;00m\n\u001b[1;32m---> 70\u001b[0m     \u001b[39mraise\u001b[39;00m e\u001b[39m.\u001b[39mwith_traceback(filtered_tb) \u001b[39mfrom\u001b[39;00m \u001b[39mNone\u001b[39m\n\u001b[0;32m     71\u001b[0m \u001b[39mfinally\u001b[39;00m:\n\u001b[0;32m     72\u001b[0m     \u001b[39mdel\u001b[39;00m filtered_tb\n",
      "File \u001b[1;32m~\\AppData\\Local\\Temp\\__autograph_generated_filemhw1txdb.py:15\u001b[0m, in \u001b[0;36mouter_factory.<locals>.inner_factory.<locals>.tf__predict_function\u001b[1;34m(iterator)\u001b[0m\n\u001b[0;32m     13\u001b[0m \u001b[39mtry\u001b[39;00m:\n\u001b[0;32m     14\u001b[0m     do_return \u001b[39m=\u001b[39m \u001b[39mTrue\u001b[39;00m\n\u001b[1;32m---> 15\u001b[0m     retval_ \u001b[39m=\u001b[39m ag__\u001b[39m.\u001b[39mconverted_call(ag__\u001b[39m.\u001b[39mld(step_function), (ag__\u001b[39m.\u001b[39mld(\u001b[39mself\u001b[39m), ag__\u001b[39m.\u001b[39mld(iterator)), \u001b[39mNone\u001b[39;00m, fscope)\n\u001b[0;32m     16\u001b[0m \u001b[39mexcept\u001b[39;00m:\n\u001b[0;32m     17\u001b[0m     do_return \u001b[39m=\u001b[39m \u001b[39mFalse\u001b[39;00m\n",
      "\u001b[1;31mValueError\u001b[0m: in user code:\n\n    File \"c:\\Users\\Lukasz\\anaconda3\\envs\\tf\\lib\\site-packages\\keras\\engine\\training.py\", line 2041, in predict_function  *\n        return step_function(self, iterator)\n    File \"c:\\Users\\Lukasz\\anaconda3\\envs\\tf\\lib\\site-packages\\keras\\engine\\training.py\", line 2027, in step_function  **\n        outputs = model.distribute_strategy.run(run_step, args=(data,))\n    File \"c:\\Users\\Lukasz\\anaconda3\\envs\\tf\\lib\\site-packages\\keras\\engine\\training.py\", line 2015, in run_step  **\n        outputs = model.predict_step(data)\n    File \"c:\\Users\\Lukasz\\anaconda3\\envs\\tf\\lib\\site-packages\\keras\\engine\\training.py\", line 1983, in predict_step\n        return self(x, training=False)\n    File \"c:\\Users\\Lukasz\\anaconda3\\envs\\tf\\lib\\site-packages\\keras\\utils\\traceback_utils.py\", line 70, in error_handler\n        raise e.with_traceback(filtered_tb) from None\n    File \"c:\\Users\\Lukasz\\anaconda3\\envs\\tf\\lib\\site-packages\\keras\\engine\\input_spec.py\", line 277, in assert_input_compatibility\n        raise ValueError(\n\n    ValueError: Exception encountered when calling layer \"sequential_7\" \"                 f\"(type Sequential).\n    \n    Input 0 of layer \"conv2d_21\" is incompatible with the layer: expected axis -1 of input shape to have value 1, but received input with shape (None, 32, 32, 3)\n    \n    Call arguments received by layer \"sequential_7\" \"                 f\"(type Sequential):\n      • inputs=tf.Tensor(shape=(None, 32, 32, 3), dtype=float32)\n      • training=False\n      • mask=None\n"
     ]
    }
   ],
   "source": [
    "X, y = zip(*test_ds)\n",
    "X = np.concatenate(X)\n",
    "y = np.concatenate(y)\n",
    "\n",
    "predictions = model.predict(X)\n",
    "report = classification_report(np.argmax(y, axis=1), np.argmax(predictions, axis=1))\n",
    "print(report)"
   ]
  }
 ],
 "metadata": {
  "kernelspec": {
   "display_name": "Python 3.9.15 ('tf')",
   "language": "python",
   "name": "python3"
  },
  "language_info": {
   "codemirror_mode": {
    "name": "ipython",
    "version": 3
   },
   "file_extension": ".py",
   "mimetype": "text/x-python",
   "name": "python",
   "nbconvert_exporter": "python",
   "pygments_lexer": "ipython3",
   "version": "3.9.15"
  },
  "orig_nbformat": 4,
  "vscode": {
   "interpreter": {
    "hash": "f14c42d44d5aca93a07ae152a604bc05c55a838d5339618e42b4c4346ef3b75c"
   }
  }
 },
 "nbformat": 4,
 "nbformat_minor": 2
}
