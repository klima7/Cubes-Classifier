{
 "cells": [
  {
   "cell_type": "code",
   "execution_count": 1,
   "metadata": {},
   "outputs": [],
   "source": [
    "import numpy as np\n",
    "from sklearn.metrics import classification_report\n",
    "import tensorflow as tf\n",
    "import tensorflow.keras.layers as layers\n",
    "from tensorflow.keras.models import Sequential\n",
    "\n",
    "import cv2"
   ]
  },
  {
   "cell_type": "code",
   "execution_count": 2,
   "metadata": {},
   "outputs": [
    {
     "name": "stdout",
     "output_type": "stream",
     "text": [
      "Found 10019 files belonging to 10 classes.\n",
      "Found 353 files belonging to 10 classes.\n"
     ]
    }
   ],
   "source": [
    "train_ds = tf.keras.utils.image_dataset_from_directory(\n",
    "  'data/dataset/',\n",
    "  label_mode='categorical',\n",
    "  shuffle=True,\n",
    "  seed=42,\n",
    "  image_size=(32, 32),\n",
    ")\n",
    "\n",
    "test_ds = tf.keras.utils.image_dataset_from_directory(\n",
    "  'data/test_dataset/',\n",
    "  label_mode='categorical',\n",
    "  shuffle=True,\n",
    "  seed=42,\n",
    "  image_size=(32, 32),\n",
    ")\n",
    "\n",
    "def transform_dataset(x, y):\n",
    "  # gray = cv2.cvtColor(x, cv2.COLOR_RGB2GRAY)\n",
    "  print(x.shape)\n",
    "  print(y)\n",
    "  return x\n",
    "\n",
    "# train_ds = train_ds.map(transform_dataset)\n"
   ]
  },
  {
   "cell_type": "code",
   "execution_count": 3,
   "metadata": {},
   "outputs": [],
   "source": [
    "x, y = next(iter(train_ds))"
   ]
  },
  {
   "cell_type": "code",
   "execution_count": 4,
   "metadata": {},
   "outputs": [],
   "source": [
    "model = Sequential([\n",
    "    layers.Input(shape=(None, None, 3)),\n",
    "    layers.Resizing(32, 32),\n",
    "    layers.Rescaling(1./255),\n",
    "    # layers.RandomBrightness(0.2, value_range=(0, 1)),\n",
    "    layers.RandomFlip('horizontal'),\n",
    "    # layers.RandomRotation(0.2),\n",
    "    # layers.RandomZoom(),\n",
    "    # layers.RandomTranslation(),\n",
    "    # layers.RandomContrast(),\n",
    "    # layers.RandomCrop()\n",
    "    layers.Conv2D(32, (3, 3), activation='relu'),\n",
    "    layers.MaxPooling2D((2, 2)),\n",
    "    layers.Conv2D(64, (3, 3), activation='relu'),\n",
    "    layers.MaxPooling2D((2, 2)),\n",
    "    layers.Conv2D(128, (3, 3), activation='relu'),\n",
    "    layers.Flatten(),\n",
    "    layers.Dense(128, activation='relu'),\n",
    "    layers.Dropout(0.5),\n",
    "    layers.Dense(64, activation='relu'),\n",
    "    layers.Dropout(0.5),\n",
    "    layers.Dense(10, activation='softmax'),\n",
    "])"
   ]
  },
  {
   "cell_type": "code",
   "execution_count": 5,
   "metadata": {},
   "outputs": [
    {
     "name": "stdout",
     "output_type": "stream",
     "text": [
      "Model: \"sequential\"\n",
      "_________________________________________________________________\n",
      " Layer (type)                Output Shape              Param #   \n",
      "=================================================================\n",
      " resizing (Resizing)         (None, 32, 32, 3)         0         \n",
      "                                                                 \n",
      " rescaling (Rescaling)       (None, 32, 32, 3)         0         \n",
      "                                                                 \n",
      " random_flip (RandomFlip)    (None, 32, 32, 3)         0         \n",
      "                                                                 \n",
      " conv2d (Conv2D)             (None, 30, 30, 32)        896       \n",
      "                                                                 \n",
      " max_pooling2d (MaxPooling2D  (None, 15, 15, 32)       0         \n",
      " )                                                               \n",
      "                                                                 \n",
      " conv2d_1 (Conv2D)           (None, 13, 13, 64)        18496     \n",
      "                                                                 \n",
      " max_pooling2d_1 (MaxPooling  (None, 6, 6, 64)         0         \n",
      " 2D)                                                             \n",
      "                                                                 \n",
      " conv2d_2 (Conv2D)           (None, 4, 4, 128)         73856     \n",
      "                                                                 \n",
      " flatten (Flatten)           (None, 2048)              0         \n",
      "                                                                 \n",
      " dense (Dense)               (None, 128)               262272    \n",
      "                                                                 \n",
      " dropout (Dropout)           (None, 128)               0         \n",
      "                                                                 \n",
      " dense_1 (Dense)             (None, 64)                8256      \n",
      "                                                                 \n",
      " dropout_1 (Dropout)         (None, 64)                0         \n",
      "                                                                 \n",
      " dense_2 (Dense)             (None, 10)                650       \n",
      "                                                                 \n",
      "=================================================================\n",
      "Total params: 364,426\n",
      "Trainable params: 364,426\n",
      "Non-trainable params: 0\n",
      "_________________________________________________________________\n"
     ]
    }
   ],
   "source": [
    "model.summary()"
   ]
  },
  {
   "cell_type": "code",
   "execution_count": 6,
   "metadata": {},
   "outputs": [],
   "source": [
    "model.compile(optimizer='adam',\n",
    "              loss='categorical_crossentropy',\n",
    "              metrics=['accuracy'])"
   ]
  },
  {
   "cell_type": "code",
   "execution_count": 7,
   "metadata": {},
   "outputs": [
    {
     "name": "stdout",
     "output_type": "stream",
     "text": [
      "Epoch 1/40\n",
      "314/314 [==============================] - 14s 36ms/step - loss: 1.9840 - accuracy: 0.2466 - val_loss: 2.1605 - val_accuracy: 0.2890\n",
      "Epoch 2/40\n",
      "314/314 [==============================] - 11s 36ms/step - loss: 1.3384 - accuracy: 0.5269 - val_loss: 2.6204 - val_accuracy: 0.3258\n",
      "Epoch 3/40\n",
      "314/314 [==============================] - 12s 37ms/step - loss: 0.9630 - accuracy: 0.6666 - val_loss: 3.0169 - val_accuracy: 0.3314\n",
      "Epoch 4/40\n",
      "314/314 [==============================] - 12s 37ms/step - loss: 0.7465 - accuracy: 0.7445 - val_loss: 2.9008 - val_accuracy: 0.3768\n",
      "Epoch 5/40\n",
      "314/314 [==============================] - 12s 37ms/step - loss: 0.5731 - accuracy: 0.8053 - val_loss: 5.7009 - val_accuracy: 0.2805\n",
      "Epoch 6/40\n",
      "314/314 [==============================] - 12s 37ms/step - loss: 0.4736 - accuracy: 0.8479 - val_loss: 3.6547 - val_accuracy: 0.4108\n",
      "Epoch 7/40\n",
      "314/314 [==============================] - 12s 37ms/step - loss: 0.3771 - accuracy: 0.8787 - val_loss: 4.2946 - val_accuracy: 0.2833\n",
      "Epoch 8/40\n",
      "314/314 [==============================] - 12s 37ms/step - loss: 0.3221 - accuracy: 0.8966 - val_loss: 3.8601 - val_accuracy: 0.3824\n",
      "Epoch 9/40\n",
      "314/314 [==============================] - 12s 38ms/step - loss: 0.2438 - accuracy: 0.9237 - val_loss: 4.2852 - val_accuracy: 0.3768\n",
      "Epoch 10/40\n",
      "314/314 [==============================] - 12s 37ms/step - loss: 0.2031 - accuracy: 0.9376 - val_loss: 5.3195 - val_accuracy: 0.3371\n",
      "Epoch 11/40\n",
      "314/314 [==============================] - 12s 37ms/step - loss: 0.1753 - accuracy: 0.9495 - val_loss: 5.3948 - val_accuracy: 0.3428\n",
      "Epoch 12/40\n",
      "314/314 [==============================] - 12s 36ms/step - loss: 0.1496 - accuracy: 0.9540 - val_loss: 5.1385 - val_accuracy: 0.3513\n",
      "Epoch 13/40\n",
      "314/314 [==============================] - 12s 38ms/step - loss: 0.1435 - accuracy: 0.9582 - val_loss: 5.1338 - val_accuracy: 0.3711\n",
      "Epoch 14/40\n",
      "314/314 [==============================] - 11s 33ms/step - loss: 0.1202 - accuracy: 0.9651 - val_loss: 5.5359 - val_accuracy: 0.3598\n",
      "Epoch 15/40\n",
      "314/314 [==============================] - 11s 33ms/step - loss: 0.1186 - accuracy: 0.9686 - val_loss: 5.5810 - val_accuracy: 0.3201\n",
      "Epoch 16/40\n",
      "314/314 [==============================] - 11s 34ms/step - loss: 0.0912 - accuracy: 0.9723 - val_loss: 5.6874 - val_accuracy: 0.3626\n",
      "Epoch 17/40\n",
      "314/314 [==============================] - 11s 36ms/step - loss: 0.0942 - accuracy: 0.9736 - val_loss: 5.9078 - val_accuracy: 0.3569\n",
      "Epoch 18/40\n",
      "314/314 [==============================] - 11s 34ms/step - loss: 0.0886 - accuracy: 0.9755 - val_loss: 5.8984 - val_accuracy: 0.3428\n",
      "Epoch 19/40\n",
      "314/314 [==============================] - 12s 36ms/step - loss: 0.0717 - accuracy: 0.9817 - val_loss: 6.4271 - val_accuracy: 0.3824\n",
      "Epoch 20/40\n",
      "314/314 [==============================] - 10s 32ms/step - loss: 0.0913 - accuracy: 0.9747 - val_loss: 6.8135 - val_accuracy: 0.3513\n",
      "Epoch 21/40\n",
      "314/314 [==============================] - 11s 35ms/step - loss: 0.1043 - accuracy: 0.9741 - val_loss: 5.4495 - val_accuracy: 0.3343\n",
      "Epoch 22/40\n",
      "314/314 [==============================] - 11s 33ms/step - loss: 0.0723 - accuracy: 0.9819 - val_loss: 6.4775 - val_accuracy: 0.3683\n",
      "Epoch 23/40\n",
      "314/314 [==============================] - 11s 35ms/step - loss: 0.0600 - accuracy: 0.9839 - val_loss: 6.1784 - val_accuracy: 0.3484\n",
      "Epoch 24/40\n",
      "314/314 [==============================] - 12s 36ms/step - loss: 0.0656 - accuracy: 0.9837 - val_loss: 5.9812 - val_accuracy: 0.3796\n",
      "Epoch 25/40\n",
      "314/314 [==============================] - 11s 33ms/step - loss: 0.0537 - accuracy: 0.9846 - val_loss: 7.0889 - val_accuracy: 0.3626\n",
      "Epoch 26/40\n",
      "314/314 [==============================] - 11s 36ms/step - loss: 0.0472 - accuracy: 0.9871 - val_loss: 6.8790 - val_accuracy: 0.3371\n",
      "Epoch 27/40\n",
      "314/314 [==============================] - 11s 33ms/step - loss: 0.0598 - accuracy: 0.9828 - val_loss: 6.7551 - val_accuracy: 0.3824\n",
      "Epoch 28/40\n",
      "314/314 [==============================] - 11s 36ms/step - loss: 0.0854 - accuracy: 0.9790 - val_loss: 6.4736 - val_accuracy: 0.3173\n",
      "Epoch 29/40\n",
      "314/314 [==============================] - 12s 36ms/step - loss: 0.0627 - accuracy: 0.9844 - val_loss: 7.5573 - val_accuracy: 0.3541\n",
      "Epoch 30/40\n",
      "314/314 [==============================] - 11s 34ms/step - loss: 0.0474 - accuracy: 0.9884 - val_loss: 6.4157 - val_accuracy: 0.3286\n",
      "Epoch 31/40\n",
      "314/314 [==============================] - 11s 35ms/step - loss: 0.0504 - accuracy: 0.9864 - val_loss: 7.0958 - val_accuracy: 0.3541\n",
      "Epoch 32/40\n",
      "314/314 [==============================] - 12s 36ms/step - loss: 0.0626 - accuracy: 0.9842 - val_loss: 6.3298 - val_accuracy: 0.3484\n",
      "Epoch 33/40\n",
      "314/314 [==============================] - 11s 36ms/step - loss: 0.0391 - accuracy: 0.9897 - val_loss: 7.0719 - val_accuracy: 0.3229\n",
      "Epoch 34/40\n",
      "314/314 [==============================] - 11s 36ms/step - loss: 0.0538 - accuracy: 0.9864 - val_loss: 6.7908 - val_accuracy: 0.3541\n",
      "Epoch 35/40\n",
      "314/314 [==============================] - 11s 35ms/step - loss: 0.0738 - accuracy: 0.9830 - val_loss: 6.2795 - val_accuracy: 0.3229\n",
      "Epoch 36/40\n",
      "314/314 [==============================] - 12s 37ms/step - loss: 0.0729 - accuracy: 0.9835 - val_loss: 5.8890 - val_accuracy: 0.3824\n",
      "Epoch 37/40\n",
      "314/314 [==============================] - 12s 37ms/step - loss: 0.0281 - accuracy: 0.9921 - val_loss: 7.7014 - val_accuracy: 0.3626\n",
      "Epoch 38/40\n",
      "314/314 [==============================] - 11s 35ms/step - loss: 0.0290 - accuracy: 0.9917 - val_loss: 7.5154 - val_accuracy: 0.3598\n",
      "Epoch 39/40\n",
      "314/314 [==============================] - 12s 37ms/step - loss: 0.0364 - accuracy: 0.9892 - val_loss: 8.7272 - val_accuracy: 0.3456\n",
      "Epoch 40/40\n",
      "314/314 [==============================] - 12s 37ms/step - loss: 0.0588 - accuracy: 0.9845 - val_loss: 7.1213 - val_accuracy: 0.3711\n"
     ]
    }
   ],
   "source": [
    "history = model.fit(train_ds, validation_data=test_ds, epochs=40, batch_size=64)"
   ]
  },
  {
   "cell_type": "code",
   "execution_count": 79,
   "metadata": {},
   "outputs": [],
   "source": [
    "X, y = zip(*test_ds)\n",
    "X = np.concatenate(X)\n",
    "y = np.concatenate(y)"
   ]
  },
  {
   "cell_type": "code",
   "execution_count": 90,
   "metadata": {},
   "outputs": [],
   "source": [
    "a, b = next(iter(train_ds))"
   ]
  },
  {
   "cell_type": "code",
   "execution_count": 203,
   "metadata": {},
   "outputs": [
    {
     "data": {
      "text/plain": [
       "((72, 32, 32, 3), (72, 10))"
      ]
     },
     "execution_count": 203,
     "metadata": {},
     "output_type": "execute_result"
    }
   ],
   "source": [
    "X.shape, y.shape"
   ]
  },
  {
   "cell_type": "code",
   "execution_count": 206,
   "metadata": {},
   "outputs": [
    {
     "name": "stdout",
     "output_type": "stream",
     "text": [
      "2/2 [==============================] - 0s 178ms/step\n",
      "              precision    recall  f1-score   support\n",
      "\n",
      "           0       0.00      0.00      0.00         1\n",
      "           1       0.00      0.00      0.00         1\n",
      "           2       0.00      0.00      0.00         1\n",
      "           3       0.25      0.40      0.31        10\n",
      "           4       0.75      0.43      0.55         7\n",
      "           5       0.56      0.75      0.64        12\n",
      "           6       0.00      0.00      0.00         3\n",
      "           7       0.00      0.00      0.00        11\n",
      "           8       0.29      0.33      0.31         6\n",
      "           9       0.00      0.00      0.00         1\n",
      "\n",
      "    accuracy                           0.34        53\n",
      "   macro avg       0.18      0.19      0.18        53\n",
      "weighted avg       0.31      0.34      0.31        53\n",
      "\n"
     ]
    },
    {
     "name": "stderr",
     "output_type": "stream",
     "text": [
      "c:\\Users\\Lukasz\\anaconda3\\envs\\tf\\lib\\site-packages\\sklearn\\metrics\\_classification.py:1334: UndefinedMetricWarning: Precision and F-score are ill-defined and being set to 0.0 in labels with no predicted samples. Use `zero_division` parameter to control this behavior.\n",
      "  _warn_prf(average, modifier, msg_start, len(result))\n",
      "c:\\Users\\Lukasz\\anaconda3\\envs\\tf\\lib\\site-packages\\sklearn\\metrics\\_classification.py:1334: UndefinedMetricWarning: Precision and F-score are ill-defined and being set to 0.0 in labels with no predicted samples. Use `zero_division` parameter to control this behavior.\n",
      "  _warn_prf(average, modifier, msg_start, len(result))\n",
      "c:\\Users\\Lukasz\\anaconda3\\envs\\tf\\lib\\site-packages\\sklearn\\metrics\\_classification.py:1334: UndefinedMetricWarning: Precision and F-score are ill-defined and being set to 0.0 in labels with no predicted samples. Use `zero_division` parameter to control this behavior.\n",
      "  _warn_prf(average, modifier, msg_start, len(result))\n"
     ]
    }
   ],
   "source": [
    "X, y = zip(*test_ds)\n",
    "X = np.concatenate(X)\n",
    "y = np.concatenate(y)\n",
    "\n",
    "predictions = model.predict(X)\n",
    "report = classification_report(np.argmax(y, axis=1), np.argmax(predictions, axis=1))\n",
    "print(report)"
   ]
  }
 ],
 "metadata": {
  "kernelspec": {
   "display_name": "Python 3.9.15 ('tf')",
   "language": "python",
   "name": "python3"
  },
  "language_info": {
   "codemirror_mode": {
    "name": "ipython",
    "version": 3
   },
   "file_extension": ".py",
   "mimetype": "text/x-python",
   "name": "python",
   "nbconvert_exporter": "python",
   "pygments_lexer": "ipython3",
   "version": "3.9.15"
  },
  "orig_nbformat": 4,
  "vscode": {
   "interpreter": {
    "hash": "f14c42d44d5aca93a07ae152a604bc05c55a838d5339618e42b4c4346ef3b75c"
   }
  }
 },
 "nbformat": 4,
 "nbformat_minor": 2
}
