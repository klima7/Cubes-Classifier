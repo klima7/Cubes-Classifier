{
 "cells": [
  {
   "cell_type": "code",
   "execution_count": 19,
   "metadata": {},
   "outputs": [],
   "source": [
    "import os\n",
    "\n",
    "import numpy as np\n",
    "from sklearn.metrics import classification_report, confusion_matrix, ConfusionMatrixDisplay\n",
    "import tensorflow as tf\n",
    "import tensorflow.keras.layers as layers\n",
    "from tensorflow.keras.models import Sequential\n",
    "\n",
    "import cv2 as cv\n",
    "import matplotlib.pyplot as plt"
   ]
  },
  {
   "cell_type": "markdown",
   "metadata": {},
   "source": [
    "### Reading data"
   ]
  },
  {
   "cell_type": "code",
   "execution_count": 20,
   "metadata": {},
   "outputs": [],
   "source": [
    "def read_dataset(path, size=64):\n",
    "    ds = tf.keras.utils.image_dataset_from_directory(\n",
    "        path,\n",
    "        label_mode='categorical',\n",
    "        shuffle=True,\n",
    "        seed=42,\n",
    "        image_size=(size, size),\n",
    "    )\n",
    "    \n",
    "    X, y = zip(*ds)\n",
    "    X = np.concatenate(X)\n",
    "    y = np.concatenate(y)\n",
    "    \n",
    "    return X, y"
   ]
  },
  {
   "cell_type": "code",
   "execution_count": 21,
   "metadata": {},
   "outputs": [
    {
     "name": "stdout",
     "output_type": "stream",
     "text": [
      "Found 10019 files belonging to 10 classes.\n",
      "Found 500 files belonging to 10 classes.\n"
     ]
    }
   ],
   "source": [
    "train_X, train_y = read_dataset('data/train/')\n",
    "test_X, test_y = read_dataset('data/test/')\n",
    "labels = sorted(os.listdir('data/train'))"
   ]
  },
  {
   "cell_type": "markdown",
   "metadata": {},
   "source": [
    "### Gray"
   ]
  },
  {
   "cell_type": "code",
   "execution_count": 4,
   "metadata": {},
   "outputs": [],
   "source": [
    "def cvt_to_gray(images):\n",
    "    gray_images = []\n",
    "    for rgb_image in images:\n",
    "        gray_image = cv.cvtColor(rgb_image, cv.COLOR_RGB2GRAY)\n",
    "        gray_images.append(gray_image)\n",
    "    gray_images = np.array(gray_images)\n",
    "    gray_images = gray_images[..., np.newaxis]\n",
    "    return gray_images"
   ]
  },
  {
   "cell_type": "code",
   "execution_count": 133,
   "metadata": {},
   "outputs": [
    {
     "data": {
      "text/plain": [
       "((10019, 64, 64, 1), (353, 64, 64, 1))"
      ]
     },
     "execution_count": 133,
     "metadata": {},
     "output_type": "execute_result"
    }
   ],
   "source": [
    "gray_train_X = cvt_to_gray(train_X)\n",
    "gray_test_X = cvt_to_gray(test_X)\n",
    "gray_train_X.shape, gray_test_X.shape"
   ]
  },
  {
   "cell_type": "code",
   "execution_count": 171,
   "metadata": {},
   "outputs": [],
   "source": [
    "gray_train_X = np.abs(gray_train_X)\n",
    "gray_test_X = np.abs(gray_test_X)"
   ]
  },
  {
   "cell_type": "markdown",
   "metadata": {},
   "source": [
    "### Gradients"
   ]
  },
  {
   "cell_type": "code",
   "execution_count": 22,
   "metadata": {},
   "outputs": [],
   "source": [
    "def get_gradients(rgb_image):\n",
    "    gray_image = cv.cvtColor(rgb_image, cv.COLOR_RGB2GRAY) / 256\n",
    "    \n",
    "    sobelx = cv.Sobel(gray_image, cv.CV_64F,1,0,ksize=3)\n",
    "    sobely = cv.Sobel(gray_image, cv.CV_64F,0,1,ksize=3)\n",
    "    sobelxy = cv.Sobel(gray_image, cv.CV_64F,1,1,ksize=3)\n",
    "    # laplacian = cv.Laplacian(gray_image, cv.CV_64F)\n",
    "    \n",
    "    return [sobelx, sobely, sobelxy]"
   ]
  },
  {
   "cell_type": "code",
   "execution_count": 23,
   "metadata": {},
   "outputs": [],
   "source": [
    "def cvt_to_gradients(images):\n",
    "    grad_images = []\n",
    "    for rgb_image in images:\n",
    "        gradients = get_gradients(rgb_image)\n",
    "        grad_images.append(gradients)\n",
    "    grad_images = np.array(grad_images)\n",
    "    grad_images = np.transpose(grad_images, (0, 2, 3, 1))\n",
    "    return grad_images"
   ]
  },
  {
   "cell_type": "code",
   "execution_count": 24,
   "metadata": {},
   "outputs": [],
   "source": [
    "grad_train_X = cvt_to_gradients(train_X)\n",
    "grad_test_X = cvt_to_gradients(test_X)\n",
    "grad_train_X.shape, grad_test_X.shape\n",
    "\n",
    "bin_grad_train_X = np.abs(grad_train_X)\n",
    "bin_grad_test_X = np.abs(grad_test_X)"
   ]
  },
  {
   "cell_type": "code",
   "execution_count": 8,
   "metadata": {},
   "outputs": [
    {
     "data": {
      "text/plain": [
       "(3.848439373075962, -3.870525425300002)"
      ]
     },
     "execution_count": 8,
     "metadata": {},
     "output_type": "execute_result"
    }
   ],
   "source": [
    "np.max(grad_train_X), np.min(grad_train_X)"
   ]
  },
  {
   "cell_type": "code",
   "execution_count": 140,
   "metadata": {},
   "outputs": [
    {
     "data": {
      "text/plain": [
       "<matplotlib.image.AxesImage at 0x2a9bcbe12b0>"
      ]
     },
     "execution_count": 140,
     "metadata": {},
     "output_type": "execute_result"
    },
    {
     "data": {
      "image/png": "[encoded data removed]",
      "text/plain": [
       "<Figure size 640x480 with 1 Axes>"
      ]
     },
     "metadata": {},
     "output_type": "display_data"
    }
   ],
   "source": [
    "plt.imshow(grad_train_X[402, ..., 1], 'gray')"
   ]
  },
  {
   "cell_type": "code",
   "execution_count": 25,
   "metadata": {},
   "outputs": [],
   "source": [
    "model = Sequential([\n",
    "    layers.Input(shape=(None, None, 3)),\n",
    "    layers.Resizing(64, 64),\n",
    "    # layers.RandomFlip('horizontal'),\n",
    "    layers.Conv2D(32, (3, 3), activation='relu'),\n",
    "    layers.MaxPooling2D((2, 2)),\n",
    "    layers.Conv2D(64, (3, 3), activation='relu'),\n",
    "    layers.MaxPooling2D((2, 2)),\n",
    "    layers.Conv2D(128, (3, 3), activation='relu'),\n",
    "    layers.MaxPooling2D((2, 2)),\n",
    "    layers.Conv2D(256, (3, 3), activation='relu'),\n",
    "    layers.Flatten(),\n",
    "    layers.Dense(256, activation='relu'),\n",
    "    layers.Dropout(0.5),\n",
    "    layers.Dense(128, activation='relu'),\n",
    "    layers.Dropout(0.5),\n",
    "    layers.Dense(10, activation='softmax'),\n",
    "])"
   ]
  },
  {
   "cell_type": "code",
   "execution_count": 26,
   "metadata": {},
   "outputs": [
    {
     "name": "stdout",
     "output_type": "stream",
     "text": [
      "Model: \"sequential_2\"\n",
      "_________________________________________________________________\n",
      " Layer (type)                Output Shape              Param #   \n",
      "=================================================================\n",
      " resizing_2 (Resizing)       (None, 64, 64, 3)         0         \n",
      "                                                                 \n",
      " conv2d_8 (Conv2D)           (None, 62, 62, 32)        896       \n",
      "                                                                 \n",
      " max_pooling2d_6 (MaxPooling  (None, 31, 31, 32)       0         \n",
      " 2D)                                                             \n",
      "                                                                 \n",
      " conv2d_9 (Conv2D)           (None, 29, 29, 64)        18496     \n",
      "                                                                 \n",
      " max_pooling2d_7 (MaxPooling  (None, 14, 14, 64)       0         \n",
      " 2D)                                                             \n",
      "                                                                 \n",
      " conv2d_10 (Conv2D)          (None, 12, 12, 128)       73856     \n",
      "                                                                 \n",
      " max_pooling2d_8 (MaxPooling  (None, 6, 6, 128)        0         \n",
      " 2D)                                                             \n",
      "                                                                 \n",
      " conv2d_11 (Conv2D)          (None, 4, 4, 256)         295168    \n",
      "                                                                 \n",
      " flatten_2 (Flatten)         (None, 4096)              0         \n",
      "                                                                 \n",
      " dense_6 (Dense)             (None, 256)               1048832   \n",
      "                                                                 \n",
      " dropout_4 (Dropout)         (None, 256)               0         \n",
      "                                                                 \n",
      " dense_7 (Dense)             (None, 128)               32896     \n",
      "                                                                 \n",
      " dropout_5 (Dropout)         (None, 128)               0         \n",
      "                                                                 \n",
      " dense_8 (Dense)             (None, 10)                1290      \n",
      "                                                                 \n",
      "=================================================================\n",
      "Total params: 1,471,434\n",
      "Trainable params: 1,471,434\n",
      "Non-trainable params: 0\n",
      "_________________________________________________________________\n"
     ]
    }
   ],
   "source": [
    "model.summary()"
   ]
  },
  {
   "cell_type": "code",
   "execution_count": 27,
   "metadata": {},
   "outputs": [],
   "source": [
    "model.compile(optimizer='adam',\n",
    "              loss='categorical_crossentropy',\n",
    "              metrics=['accuracy'])"
   ]
  },
  {
   "cell_type": "code",
   "execution_count": 28,
   "metadata": {},
   "outputs": [
    {
     "name": "stdout",
     "output_type": "stream",
     "text": [
      "Epoch 1/40\n",
      "157/157 [==============================] - 2s 11ms/step - loss: 1.9545 - accuracy: 0.2610 - val_loss: 1.5485 - val_accuracy: 0.4160\n",
      "Epoch 2/40\n",
      "157/157 [==============================] - 2s 10ms/step - loss: 1.1125 - accuracy: 0.6040 - val_loss: 1.5623 - val_accuracy: 0.4800\n",
      "Epoch 3/40\n",
      "157/157 [==============================] - 2s 10ms/step - loss: 0.6817 - accuracy: 0.7610 - val_loss: 1.3260 - val_accuracy: 0.5660\n",
      "Epoch 4/40\n",
      "157/157 [==============================] - 2s 10ms/step - loss: 0.4121 - accuracy: 0.8578 - val_loss: 1.8123 - val_accuracy: 0.5640\n",
      "Epoch 5/40\n",
      "157/157 [==============================] - 2s 10ms/step - loss: 0.2910 - accuracy: 0.9103 - val_loss: 1.3938 - val_accuracy: 0.6140\n",
      "Epoch 6/40\n",
      "157/157 [==============================] - 2s 10ms/step - loss: 0.1640 - accuracy: 0.9499 - val_loss: 1.7181 - val_accuracy: 0.6340\n",
      "Epoch 7/40\n",
      "157/157 [==============================] - 2s 10ms/step - loss: 0.1296 - accuracy: 0.9614 - val_loss: 2.1737 - val_accuracy: 0.6520\n",
      "Epoch 8/40\n",
      "157/157 [==============================] - 2s 10ms/step - loss: 0.1060 - accuracy: 0.9685 - val_loss: 2.4137 - val_accuracy: 0.6160\n",
      "Epoch 9/40\n",
      "157/157 [==============================] - 2s 10ms/step - loss: 0.0858 - accuracy: 0.9746 - val_loss: 2.0977 - val_accuracy: 0.6560\n",
      "Epoch 10/40\n",
      "157/157 [==============================] - 2s 10ms/step - loss: 0.0607 - accuracy: 0.9816 - val_loss: 2.3588 - val_accuracy: 0.6620\n",
      "Epoch 11/40\n",
      "157/157 [==============================] - 2s 10ms/step - loss: 0.0623 - accuracy: 0.9822 - val_loss: 2.5376 - val_accuracy: 0.6460\n",
      "Epoch 12/40\n",
      "157/157 [==============================] - 2s 10ms/step - loss: 0.0486 - accuracy: 0.9850 - val_loss: 2.9456 - val_accuracy: 0.6440\n",
      "Epoch 13/40\n",
      "157/157 [==============================] - 2s 10ms/step - loss: 0.0392 - accuracy: 0.9887 - val_loss: 2.7486 - val_accuracy: 0.6460\n",
      "Epoch 14/40\n",
      "157/157 [==============================] - 2s 10ms/step - loss: 0.0303 - accuracy: 0.9912 - val_loss: 3.0683 - val_accuracy: 0.6560\n",
      "Epoch 15/40\n",
      "157/157 [==============================] - 2s 10ms/step - loss: 0.0612 - accuracy: 0.9838 - val_loss: 2.2783 - val_accuracy: 0.6360\n",
      "Epoch 16/40\n",
      "157/157 [==============================] - 2s 10ms/step - loss: 0.0468 - accuracy: 0.9861 - val_loss: 3.0944 - val_accuracy: 0.6220\n",
      "Epoch 17/40\n",
      "157/157 [==============================] - 2s 10ms/step - loss: 0.0331 - accuracy: 0.9902 - val_loss: 3.1079 - val_accuracy: 0.6240\n",
      "Epoch 18/40\n",
      "157/157 [==============================] - 2s 10ms/step - loss: 0.0383 - accuracy: 0.9883 - val_loss: 2.4490 - val_accuracy: 0.6680\n",
      "Epoch 19/40\n",
      "157/157 [==============================] - 2s 10ms/step - loss: 0.0197 - accuracy: 0.9948 - val_loss: 2.3536 - val_accuracy: 0.6660\n",
      "Epoch 20/40\n",
      "157/157 [==============================] - 2s 10ms/step - loss: 0.0383 - accuracy: 0.9900 - val_loss: 2.9538 - val_accuracy: 0.6680\n",
      "Epoch 21/40\n",
      "157/157 [==============================] - 2s 10ms/step - loss: 0.0285 - accuracy: 0.9910 - val_loss: 3.4386 - val_accuracy: 0.6480\n",
      "Epoch 22/40\n",
      "157/157 [==============================] - 2s 10ms/step - loss: 0.0293 - accuracy: 0.9917 - val_loss: 2.7016 - val_accuracy: 0.6680\n",
      "Epoch 23/40\n",
      "157/157 [==============================] - 2s 10ms/step - loss: 0.0487 - accuracy: 0.9877 - val_loss: 3.5402 - val_accuracy: 0.5880\n",
      "Epoch 24/40\n",
      "157/157 [==============================] - 2s 10ms/step - loss: 0.0311 - accuracy: 0.9917 - val_loss: 3.1487 - val_accuracy: 0.6640\n",
      "Epoch 25/40\n",
      "157/157 [==============================] - 2s 10ms/step - loss: 0.0247 - accuracy: 0.9930 - val_loss: 3.4999 - val_accuracy: 0.6380\n",
      "Epoch 26/40\n",
      "157/157 [==============================] - 2s 10ms/step - loss: 0.0077 - accuracy: 0.9972 - val_loss: 3.1887 - val_accuracy: 0.7000\n",
      "Epoch 27/40\n",
      "157/157 [==============================] - 2s 10ms/step - loss: 0.0176 - accuracy: 0.9948 - val_loss: 2.9474 - val_accuracy: 0.6880\n",
      "Epoch 28/40\n",
      "157/157 [==============================] - 2s 10ms/step - loss: 0.0284 - accuracy: 0.9926 - val_loss: 3.2068 - val_accuracy: 0.6520\n",
      "Epoch 29/40\n",
      "157/157 [==============================] - 2s 10ms/step - loss: 0.0323 - accuracy: 0.9916 - val_loss: 3.0638 - val_accuracy: 0.6780\n",
      "Epoch 30/40\n",
      "157/157 [==============================] - 2s 10ms/step - loss: 0.0149 - accuracy: 0.9953 - val_loss: 3.6975 - val_accuracy: 0.6280\n",
      "Epoch 31/40\n",
      "157/157 [==============================] - 2s 10ms/step - loss: 0.0465 - accuracy: 0.9877 - val_loss: 2.6573 - val_accuracy: 0.6700\n",
      "Epoch 32/40\n",
      "157/157 [==============================] - 2s 10ms/step - loss: 0.0221 - accuracy: 0.9939 - val_loss: 2.8469 - val_accuracy: 0.6660\n",
      "Epoch 33/40\n",
      "157/157 [==============================] - 2s 10ms/step - loss: 0.0332 - accuracy: 0.9916 - val_loss: 2.3380 - val_accuracy: 0.6720\n",
      "Epoch 34/40\n",
      "157/157 [==============================] - 2s 10ms/step - loss: 0.0140 - accuracy: 0.9956 - val_loss: 2.8154 - val_accuracy: 0.6860\n",
      "Epoch 35/40\n",
      "157/157 [==============================] - 2s 10ms/step - loss: 0.0286 - accuracy: 0.9939 - val_loss: 2.4828 - val_accuracy: 0.6480\n",
      "Epoch 36/40\n",
      "157/157 [==============================] - 2s 10ms/step - loss: 0.0190 - accuracy: 0.9943 - val_loss: 2.9846 - val_accuracy: 0.6780\n",
      "Epoch 37/40\n",
      "157/157 [==============================] - 2s 10ms/step - loss: 0.0363 - accuracy: 0.9907 - val_loss: 3.3840 - val_accuracy: 0.6880\n",
      "Epoch 38/40\n",
      "157/157 [==============================] - 2s 10ms/step - loss: 0.0186 - accuracy: 0.9956 - val_loss: 2.4067 - val_accuracy: 0.7140\n",
      "Epoch 39/40\n",
      "157/157 [==============================] - 2s 10ms/step - loss: 0.0071 - accuracy: 0.9980 - val_loss: 3.2897 - val_accuracy: 0.6940\n",
      "Epoch 40/40\n",
      "157/157 [==============================] - 2s 10ms/step - loss: 0.0227 - accuracy: 0.9943 - val_loss: 3.4737 - val_accuracy: 0.6720\n"
     ]
    }
   ],
   "source": [
    "history = model.fit(bin_grad_train_X, train_y, validation_data=(bin_grad_test_X, test_y), epochs=40, batch_size=64)"
   ]
  },
  {
   "cell_type": "code",
   "execution_count": 29,
   "metadata": {},
   "outputs": [
    {
     "name": "stdout",
     "output_type": "stream",
     "text": [
      "16/16 [==============================] - 0s 12ms/step\n",
      "              precision    recall  f1-score   support\n",
      "\n",
      "           0       0.44      0.38      0.41        50\n",
      "           1       0.58      0.78      0.67        50\n",
      "           2       0.50      0.48      0.49        50\n",
      "           3       0.78      0.80      0.79        50\n",
      "           4       0.53      0.62      0.57        50\n",
      "           5       1.00      0.84      0.91        50\n",
      "           6       0.70      0.78      0.74        50\n",
      "           7       0.97      0.78      0.87        50\n",
      "           8       0.54      0.40      0.46        50\n",
      "           9       0.75      0.86      0.80        50\n",
      "\n",
      "    accuracy                           0.67       500\n",
      "   macro avg       0.68      0.67      0.67       500\n",
      "weighted avg       0.68      0.67      0.67       500\n",
      "\n"
     ]
    },
    {
     "data": {
      "image/png": "[encoded data removed]",
      "text/plain": [
       "<Figure size 640x480 with 2 Axes>"
      ]
     },
     "metadata": {},
     "output_type": "display_data"
    }
   ],
   "source": [
    "predictions = model.predict(bin_grad_test_X)\n",
    "true_classes = np.argmax(test_y, axis=1)\n",
    "predicted_classes = np.argmax(predictions, axis=1)\n",
    "\n",
    "report = classification_report(true_classes, predicted_classes)\n",
    "cm = confusion_matrix(true_classes, predicted_classes)\n",
    "\n",
    "print(report)\n",
    "ConfusionMatrixDisplay.from_predictions(\n",
    "    true_classes, \n",
    "    predicted_classes, \n",
    "    display_labels=labels, \n",
    "    xticks_rotation='vertical',\n",
    ");"
   ]
  }
 ],
 "metadata": {
  "kernelspec": {
   "display_name": "Python 3.9.15 ('tf')",
   "language": "python",
   "name": "python3"
  },
  "language_info": {
   "codemirror_mode": {
    "name": "ipython",
    "version": 3
   },
   "file_extension": ".py",
   "mimetype": "text/x-python",
   "name": "python",
   "nbconvert_exporter": "python",
   "pygments_lexer": "ipython3",
   "version": "3.9.15"
  },
  "orig_nbformat": 4,
  "vscode": {
   "interpreter": {
    "hash": "f14c42d44d5aca93a07ae152a604bc05c55a838d5339618e42b4c4346ef3b75c"
   }
  }
 },
 "nbformat": 4,
 "nbformat_minor": 2
}
